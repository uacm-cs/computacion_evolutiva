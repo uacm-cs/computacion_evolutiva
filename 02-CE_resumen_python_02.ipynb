{
 "cells": [
  {
   "cell_type": "markdown",
   "metadata": {},
   "source": [
    "# Estructura de datos: Diccionarios\n",
    "- ### Los diccionarios en Python son una estructura de datos que permite almacenar su contenido en forma de clave y valor.\n",
    "- ### Son dinámicos: se pueden añadir o eliminar elementos.\n",
    "- ### Son indexados a través de la clave.\n",
    "- ### Son anidados: un diccionario puede contener a otro diccionario en su campo valor.\n",
    "\n",
    "\n"
   ]
  },
  {
   "cell_type": "markdown",
   "metadata": {},
   "source": [
    "### Definición de diccionarios"
   ]
  },
  {
   "cell_type": "code",
   "execution_count": null,
   "metadata": {
    "collapsed": true
   },
   "outputs": [],
   "source": [
    "datos1 = {'nombre' : 'Juan', 'edad' : 22, 'calficaciones':[10,8,9]}"
   ]
  },
  {
   "cell_type": "code",
   "execution_count": null,
   "metadata": {},
   "outputs": [],
   "source": [
    "datos1"
   ]
  },
  {
   "cell_type": "markdown",
   "metadata": {},
   "source": [
    "### Otra manera de definir diccionarios"
   ]
  },
  {
   "cell_type": "code",
   "execution_count": null,
   "metadata": {
    "collapsed": true
   },
   "outputs": [],
   "source": [
    "datos2 = dict(nombre='Pedro', edad=28)"
   ]
  },
  {
   "cell_type": "code",
   "execution_count": null,
   "metadata": {},
   "outputs": [],
   "source": [
    "datos2"
   ]
  },
  {
   "cell_type": "markdown",
   "metadata": {},
   "source": [
    "### Diccionarios anidados"
   ]
  },
  {
   "cell_type": "code",
   "execution_count": null,
   "metadata": {},
   "outputs": [],
   "source": [
    "datos3 = {'nombre' : 'Juan', 'edad' : 22, 'calificaciones': {'matematicas': 10, 'español': 8, 'biología': 9}}"
   ]
  },
  {
   "cell_type": "code",
   "execution_count": null,
   "metadata": {},
   "outputs": [],
   "source": [
    "datos3"
   ]
  },
  {
   "cell_type": "code",
   "execution_count": null,
   "metadata": {},
   "outputs": [],
   "source": []
  },
  {
   "cell_type": "markdown",
   "metadata": {},
   "source": [
    "# Combinar datos"
   ]
  },
  {
   "cell_type": "code",
   "execution_count": null,
   "metadata": {},
   "outputs": [],
   "source": [
    "registro = {1:datos1,2:datos2}"
   ]
  },
  {
   "cell_type": "code",
   "execution_count": null,
   "metadata": {},
   "outputs": [],
   "source": [
    "registro"
   ]
  },
  {
   "cell_type": "markdown",
   "metadata": {},
   "source": [
    "# Acceder a los datos"
   ]
  },
  {
   "cell_type": "code",
   "execution_count": null,
   "metadata": {},
   "outputs": [],
   "source": [
    "datos3 = {'nombre' : 'Juan', 'edad' : 22, 'calificaciones': {'matematicas': 10, 'español': 8, 'biología': 9}}\n",
    "datos3['calificaciones']['español']"
   ]
  },
  {
   "cell_type": "markdown",
   "metadata": {},
   "source": [
    "# Asignar valores"
   ]
  },
  {
   "cell_type": "code",
   "execution_count": null,
   "metadata": {},
   "outputs": [],
   "source": [
    "datos3 = {'nombre' : 'Juan', 'edad' : 22, 'calificaciones': {'matematicas': 10, 'español': 8, 'biología': 9}}\n",
    "print(datos3)\n",
    "\n",
    "datos3['nombre']= 'Juan Carlos' \n",
    "print(datos3)"
   ]
  },
  {
   "cell_type": "code",
   "execution_count": null,
   "metadata": {},
   "outputs": [],
   "source": []
  },
  {
   "cell_type": "markdown",
   "metadata": {},
   "source": [
    "# Eliminar datos"
   ]
  },
  {
   "cell_type": "code",
   "execution_count": null,
   "metadata": {},
   "outputs": [],
   "source": [
    "datos3 = {'nombre' : 'Juan', 'edad' : 22, 'calificaciones': {'matematicas': 10, 'español': 8, 'biología': 9}}\n",
    "print(datos3)\n",
    "\n",
    "del datos3['edad']\n",
    "print(datos3)"
   ]
  },
  {
   "cell_type": "markdown",
   "metadata": {},
   "source": [
    "# Recuperar valores"
   ]
  },
  {
   "cell_type": "code",
   "execution_count": null,
   "metadata": {},
   "outputs": [],
   "source": [
    "datos3 = {'nombre' : 'Juan', 'edad' : 22, 'calificaciones': {'matematicas': 10, 'español': 8, 'biología': 9}}\n",
    "nombre = datos3['nombre']\n",
    "print(nombre)\n",
    "\n",
    "nombre = datos3.get('nombre')\n",
    "print(nombre)\n"
   ]
  },
  {
   "cell_type": "markdown",
   "metadata": {},
   "source": [
    "# Membresia"
   ]
  },
  {
   "cell_type": "code",
   "execution_count": null,
   "metadata": {},
   "outputs": [],
   "source": [
    "registro = { 'María': { 'edad' : 22, 'calificaciones': {'matematicas': 10, 'español': 8, 'biología': 9}}, \n",
    "             'Juan':  { 'edad' : 28, 'calificaciones': {'matematicas': 9, 'español': 9, 'biología': 9}}, \n",
    "             'Pedro': { 'edad' : 28, 'calificaciones': {'matematicas': 9, 'español': 9, 'biología': 9}}, \n",
    "             }\n",
    "\n",
    "'María' in registro"
   ]
  },
  {
   "cell_type": "code",
   "execution_count": null,
   "metadata": {},
   "outputs": [],
   "source": [
    "nombre = 'María'\n",
    "if nombre in registro:\n",
    "    print(\"Existe el registro de {nombre}\")\n"
   ]
  },
  {
   "cell_type": "code",
   "execution_count": null,
   "metadata": {
    "collapsed": true
   },
   "outputs": [],
   "source": [
    "registro['Pedro']"
   ]
  },
  {
   "cell_type": "markdown",
   "metadata": {},
   "source": [
    "# Conteo"
   ]
  },
  {
   "cell_type": "code",
   "execution_count": 3,
   "metadata": {},
   "outputs": [],
   "source": [
    "\n",
    "s = \"Hola mundo hola todos\"\n",
    "dat={}\n",
    "for c in s:\n",
    "    if c in dat:\n",
    "        dat[c] = dat[c] + 1\n",
    "    else:\n",
    "        dat[c] = 1            "
   ]
  },
  {
   "cell_type": "code",
   "execution_count": null,
   "metadata": {},
   "outputs": [],
   "source": [
    "print(dat)"
   ]
  },
  {
   "cell_type": "markdown",
   "metadata": {},
   "source": [
    "# Ejecución dinámicas de funciones  mediante diccionarios"
   ]
  },
  {
   "cell_type": "code",
   "execution_count": null,
   "metadata": {},
   "outputs": [],
   "source": [
    "from math import tan, cos, sin\n",
    "\n",
    "funciones = {\n",
    "    'tan': tan,\n",
    "    'cos': cos,\n",
    "    'sin': sin\n",
    "}\n",
    "\n",
    "x = 0.5\n",
    "func= 'cos'\n",
    "res = funciones[func](x)\n",
    "print(f\"El resultado de {func}({x}) es {res}\")\n",
    "\n"
   ]
  },
  {
   "cell_type": "markdown",
   "metadata": {},
   "source": [
    "# Tipo de dato: Counter\n",
    "- ### Counter es una subclase de dict que está especialmente diseñada para contar objetos hash en Python.\n",
    "- ### Es un diccionario que asigna objetos como claves y un contador como valores"
   ]
  },
  {
   "cell_type": "code",
   "execution_count": null,
   "metadata": {},
   "outputs": [],
   "source": [
    "from collections import Counter\n",
    "cnt =  Counter(s)\n",
    "cnt"
   ]
  },
  {
   "cell_type": "code",
   "execution_count": null,
   "metadata": {},
   "outputs": [],
   "source": [
    "from collections import Counter\n",
    "caracteres =  Counter()\n",
    "for c in s:\n",
    "       caracteres[c] +=1\n",
    "\n",
    "caracteres"
   ]
  },
  {
   "cell_type": "code",
   "execution_count": 7,
   "metadata": {},
   "outputs": [],
   "source": [
    "from collections import Counter\n",
    "\n",
    "inventario = Counter(\n",
    "    manzanas=10,\n",
    "    naranjas=15,\n",
    "    papas=0,\n",
    "    jitomates=5\n",
    ")"
   ]
  },
  {
   "cell_type": "code",
   "execution_count": null,
   "metadata": {},
   "outputs": [],
   "source": [
    "inventario"
   ]
  },
  {
   "cell_type": "code",
   "execution_count": null,
   "metadata": {},
   "outputs": [],
   "source": [
    "print(list(inventario.keys()))\n",
    "print(list(inventario.values()))"
   ]
  },
  {
   "cell_type": "code",
   "execution_count": null,
   "metadata": {},
   "outputs": [],
   "source": [
    "import matplotlib.pyplot as plt\n",
    "\n",
    "k=list(caracteres.keys())\n",
    "v=list(caracteres.values())\n",
    "print(k,v)\n",
    "x_pos = [i for i, _ in enumerate(k)]\n",
    "plt.xticks(x_pos, k)\n",
    "plt.bar(x_pos, v, align='center')\n"
   ]
  },
  {
   "cell_type": "code",
   "execution_count": null,
   "metadata": {},
   "outputs": [],
   "source": []
  },
  {
   "cell_type": "code",
   "execution_count": null,
   "metadata": {},
   "outputs": [],
   "source": [
    "caracteres.update(\"ooooooooo sssssss\")\n",
    "caracteres"
   ]
  },
  {
   "cell_type": "code",
   "execution_count": null,
   "metadata": {},
   "outputs": [],
   "source": [
    "# los 3 mas comunes en la colección\n",
    "caracteres.most_common(3)"
   ]
  },
  {
   "cell_type": "code",
   "execution_count": null,
   "metadata": {},
   "outputs": [],
   "source": [
    "# iterar en la coleccion de datos \n",
    "for i in caracteres.items():\n",
    "    print(i)"
   ]
  },
  {
   "cell_type": "markdown",
   "metadata": {},
   "source": [
    "# Estructura de datos: set\n",
    "- ### Los elementos de un set son único,  no puede haber elementos duplicados.\n",
    "- ### Los set son desordenados, no mantienen el orden de cuando son declarados.\n",
    "- ### Sus elementos deben ser inmutables."
   ]
  },
  {
   "cell_type": "code",
   "execution_count": null,
   "metadata": {
    "collapsed": true
   },
   "outputs": [],
   "source": [
    "A = set(['aaa', '1', 'b', 3, '4', 'c', 'a','a','a'])\n",
    "B = set(['aa', '1', 'bb', 3, '5', 'c', 'a'])"
   ]
  },
  {
   "cell_type": "code",
   "execution_count": null,
   "metadata": {},
   "outputs": [],
   "source": [
    "A"
   ]
  },
  {
   "cell_type": "code",
   "execution_count": null,
   "metadata": {},
   "outputs": [],
   "source": [
    "B"
   ]
  },
  {
   "cell_type": "code",
   "execution_count": null,
   "metadata": {
    "collapsed": true
   },
   "outputs": [],
   "source": [
    "AA = set(\"anita lava la tina\")"
   ]
  },
  {
   "cell_type": "code",
   "execution_count": null,
   "metadata": {},
   "outputs": [],
   "source": [
    "AA"
   ]
  },
  {
   "cell_type": "code",
   "execution_count": null,
   "metadata": {},
   "outputs": [],
   "source": [
    "A.union(B)"
   ]
  },
  {
   "cell_type": "code",
   "execution_count": null,
   "metadata": {},
   "outputs": [],
   "source": [
    "A.intersection(B)"
   ]
  },
  {
   "cell_type": "code",
   "execution_count": null,
   "metadata": {
    "collapsed": true
   },
   "outputs": [],
   "source": []
  },
  {
   "cell_type": "markdown",
   "metadata": {},
   "source": [
    "# Tuplas\n",
    "- ### Permite almacenar datos similar  a las listas, los elementos son inmutables (no pueden cambiar).\n",
    "- ### No pueden ser modificadas una vez declaradas"
   ]
  },
  {
   "cell_type": "code",
   "execution_count": null,
   "metadata": {},
   "outputs": [],
   "source": [
    "tupla = (1, 2, 3)\n",
    "tupla2 = 5, 6, 7\n",
    "\n",
    "print(type(tupla)) #<class 'tuple'>\n",
    "print(type(tupla2)) #<class 'tuple'>\n",
    "print(tupla)       #(1, 2, 3)\n",
    "print(tupla2)       #(1, 2, 3)\n"
   ]
  },
  {
   "cell_type": "code",
   "execution_count": null,
   "metadata": {},
   "outputs": [],
   "source": [
    "# Inmutables\n",
    "\n",
    "#tupla[0] = 5 # Error! TypeError\n",
    "\n",
    "tupla[0] = 5 "
   ]
  },
  {
   "cell_type": "code",
   "execution_count": null,
   "metadata": {},
   "outputs": [],
   "source": [
    "# Se puede iterar\n",
    "\n",
    "tupla = (1, 2, 3)\n",
    "for t in tupla:\n",
    "    print(t) #1, 2, 3"
   ]
  },
  {
   "cell_type": "code",
   "execution_count": null,
   "metadata": {},
   "outputs": [],
   "source": [
    "# Asignar elementos a N variables\n",
    "l = (10, 20, 30)\n",
    "x, y, z = l\n",
    "print(x, y, z) "
   ]
  },
  {
   "cell_type": "markdown",
   "metadata": {},
   "source": [
    "# 1. Ejercicios"
   ]
  },
  {
   "cell_type": "markdown",
   "metadata": {},
   "source": [
    "#### 1.1  Crear un programa que permita al usuario ingresar desde el teclado una función aritmética con los nombres (suma, resta, division, multiplicacion) y sus parámetros. Posteriormente,  calcular y mostrar el resultado de la función correspondiente. Haga uso de ejecución de funciones dinámicas.\n",
    "\n",
    "#### 1.2 Crear un programa que permita al usuario ingresar desde el teclado una función aritmética (suma, resta, division, multiplicacion) o trigonométrica (seno, coseno, tangente)  y el número de parámetro(s)correspondientes. Posteriormente,  calcular y mostrar el resultado de la función correspondiente. Haga uso de ejecución de funciones dinámicas"
   ]
  },
  {
   "cell_type": "markdown",
   "metadata": {},
   "source": []
  },
  {
   "cell_type": "code",
   "execution_count": null,
   "metadata": {},
   "outputs": [],
   "source": []
  },
  {
   "cell_type": "code",
   "execution_count": null,
   "metadata": {},
   "outputs": [],
   "source": []
  },
  {
   "cell_type": "code",
   "execution_count": null,
   "metadata": {},
   "outputs": [],
   "source": []
  },
  {
   "cell_type": "markdown",
   "metadata": {},
   "source": [
    "# Gutenberg project\n",
    "http://www.gutenberg.org"
   ]
  },
  {
   "cell_type": "markdown",
   "metadata": {},
   "source": [
    "# Lectura de archivos"
   ]
  },
  {
   "cell_type": "code",
   "execution_count": null,
   "metadata": {},
   "outputs": [],
   "source": [
    "k = 0\n",
    "f = open(\"./data/celestina.txt\", 'r', encoding='utf8')\n",
    "text = f.readlines()\n",
    "print(text)\n",
    "f.close()\n",
    "        \n"
   ]
  },
  {
   "cell_type": "code",
   "execution_count": null,
   "metadata": {},
   "outputs": [],
   "source": [
    "# primeras 10 lineas\n",
    "text[:10]\n",
    "\n"
   ]
  },
  {
   "cell_type": "code",
   "execution_count": null,
   "metadata": {},
   "outputs": [],
   "source": [
    "# Cadena vacía se evalua como False\n",
    "x =\"\"\n",
    "bool(x)"
   ]
  },
  {
   "cell_type": "code",
   "execution_count": null,
   "metadata": {
    "collapsed": true
   },
   "outputs": [],
   "source": [
    "for i in text[:10]:\n",
    "    d = i.strip() # elimina todos los espacios iniciales y finales.\n",
    "    if d:   # imprime si tiene datos d, s no es linea vacía.\n",
    "        print(d)"
   ]
  },
  {
   "cell_type": "code",
   "execution_count": null,
   "metadata": {},
   "outputs": [],
   "source": [
    "# split()\n",
    "\"Hola mundo, saludos\".split()"
   ]
  },
  {
   "cell_type": "code",
   "execution_count": null,
   "metadata": {},
   "outputs": [],
   "source": [
    "# startswith()\n",
    "\"Hola mundo, saludos\".startswith('Hol')"
   ]
  },
  {
   "cell_type": "code",
   "execution_count": null,
   "metadata": {},
   "outputs": [],
   "source": [
    "# lower()\n",
    "\"Hola MUNDO, Saludos\".lower()"
   ]
  },
  {
   "cell_type": "code",
   "execution_count": null,
   "metadata": {},
   "outputs": [],
   "source": [
    "# upper()\n",
    "\"Hola MUNDO, Saludos\".upper()"
   ]
  },
  {
   "cell_type": "code",
   "execution_count": null,
   "metadata": {},
   "outputs": [],
   "source": [
    "# replace\n",
    "\"Hola MUNDO, Saludos\".replace(\"MUNDO\", \"Juan\")"
   ]
  },
  {
   "cell_type": "markdown",
   "metadata": {},
   "source": [
    "# 2. Ejercicios en clase\n",
    "- ### 2.1 Definir una función que calcule la distancia de hamming para dos cadenas de la misma longitud\n",
    "    - #### Si las cadenas no tienen la misma longitud, el programa debe mostrar un mensaje de error.\n",
    "\n",
    "    ##### **Distancia de Hamming**\n",
    "\n",
    "    - #### La **distancia de Hamming** es una métrica que mide el número de posiciones en las que dos cadenas de igual longitud son diferentes. \n",
    "\n",
    "\n",
    "    - #### **Definición**\n",
    "\n",
    "        - #### Sea $a$ y $b$ dos cadenas binarias o de caracteres de longitud $n$. La distancia de Hamming se define como:\n",
    "\n",
    "        - #### $$ d_H(a, b) = \\sum_{i=1}^{n} (a_i \\neq b_i) $$\n",
    "\n",
    "        - #### Esto es, cuenta las posiciones $ i $ donde los caracteres de $ a $ y $ b $ no son iguales.\n",
    "\n",
    "\n",
    "    - #### Ejemplo, $ d_H(\"1011101\", \"1001001\") = 2 $\n",
    "\n",
    "    - #### Diferencias en las posiciones 3 y 5\n",
    "\n",
    "\n",
    "\n",
    "        - #### Ejemplo de codificación genética binaria:\n",
    "            - #### Cadena 1: \"1011101\"  \n",
    "            - #### Cadena 2: \"1001001\"\n",
    "            - #### Distancia de Hamming: 2\n",
    "\n",
    "        - #### Ejemplo de codificación de ADN: adenina (A), citosina (C), guanina (G) y timina (T).\n",
    "\n",
    "            - #### Cadena 1: \"GATTACA\"  \n",
    "            - #### Cadena 2: \"GACTATC\"  \n",
    "            - #### Distancia de Hamming: 3\n",
    "\n",
    " - ### 2.2 Calcular  la distancia de hamming entre todos los cromosomas del archivo \"cromosomas.txt\" de la carpeta \"data\" \n"
   ]
  },
  {
   "cell_type": "code",
   "execution_count": null,
   "metadata": {},
   "outputs": [],
   "source": []
  },
  {
   "cell_type": "code",
   "execution_count": null,
   "metadata": {},
   "outputs": [],
   "source": []
  },
  {
   "cell_type": "code",
   "execution_count": null,
   "metadata": {},
   "outputs": [],
   "source": []
  },
  {
   "cell_type": "markdown",
   "metadata": {},
   "source": [
    "# 3. Ejercicios en clase\n",
    "- ### 3.1  Definir una función que calcule  el coeficiente de similitud de Jaccard para dos cadenas proporcionadas\n",
    "- ### 3.2  Definir una función que calcule  el coeficiente  de similitud de Dice para dos cadenas proporcionadas\n",
    "\n",
    "### Coeficiente de Jaccard \n",
    "### $$J(A,B) = \\frac{|A \\cap B|}{|A \\cup  B|}$$\n",
    "\n",
    "### Coeficiente de Dice \n",
    "### $$D(A,B) =  \\frac{ 2 \\times |A \\cap B|}{|A| + |B|}$$\n"
   ]
  },
  {
   "cell_type": "markdown",
   "metadata": {},
   "source": [
    "- ### Ejemplo de cadenas por comparar\n",
    "    - #### Cadena 1: \"1011101\"  \n",
    "    - #### Cadena 2: \"1001001\""
   ]
  },
  {
   "cell_type": "markdown",
   "metadata": {},
   "source": [
    "- #### Ejemplo de codificación de ADN: adenina (A), citosina (C), guanina (G) y timina (T).\n",
    "\n",
    "    - #### Cadena 1: \"GATTACA\"  \n",
    "    - #### Cadena 2: \"GACTATC\"  "
   ]
  },
  {
   "cell_type": "markdown",
   "metadata": {},
   "source": [
    " - ### 3.3 Calcular los coeficientes de Jaccard y Dice entre todos los cromosomas del archivo \"cromosomas.txt\" de la carpeta \"data\" \n"
   ]
  },
  {
   "cell_type": "code",
   "execution_count": null,
   "metadata": {},
   "outputs": [],
   "source": []
  },
  {
   "cell_type": "markdown",
   "metadata": {},
   "source": [
    "\n"
   ]
  },
  {
   "cell_type": "markdown",
   "metadata": {},
   "source": []
  },
  {
   "cell_type": "code",
   "execution_count": 62,
   "metadata": {},
   "outputs": [],
   "source": []
  },
  {
   "cell_type": "markdown",
   "metadata": {},
   "source": []
  }
 ],
 "metadata": {
  "kernelspec": {
   "display_name": "CE",
   "language": "python",
   "name": "python3"
  },
  "language_info": {
   "codemirror_mode": {
    "name": "ipython",
    "version": 3
   },
   "file_extension": ".py",
   "mimetype": "text/x-python",
   "name": "python",
   "nbconvert_exporter": "python",
   "pygments_lexer": "ipython3",
   "version": "3.13.1"
  }
 },
 "nbformat": 4,
 "nbformat_minor": 2
}
