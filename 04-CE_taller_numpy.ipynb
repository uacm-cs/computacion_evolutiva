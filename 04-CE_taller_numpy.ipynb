{
 "cells": [
  {
   "cell_type": "markdown",
   "metadata": {},
   "source": [
    "\n",
    "<img src=\"figs/fig-numpy.png\" width=\"40%\">\n"
   ]
  },
  {
   "cell_type": "markdown",
   "metadata": {},
   "source": [
    "# Contenido del Tutorial\n",
    "\n",
    "###  1. **Instalación de NumPy**\n",
    "  #### - Cómo instalar NumPy usando `pip` o `conda`.\n",
    "\n",
    "### 2. **Conceptos Básicos de Arreglos**\n",
    "   #### - Creación de arreglos con `np.array()`.\n",
    "   #### - Indexación y segmentación de arreglos.\n",
    "   #### - Tipos de datos y conversiones entre tipos.\n",
    "\n",
    "### 3. **Operaciones Matemáticas y Estadísticas**\n",
    "   #### - Operaciones aritméticas básicas: suma, resta, multiplicación y división.\n",
    "   #### - Funciones estadísticas: media, mediana, desviación estándar.\n",
    "\n",
    "### 4. **Manipulación de Arreglos**\n",
    "   #### - Cambio de forma con `reshape()`.\n",
    "   #### - Transposición y otras operaciones de reordenamiento.\n",
    "   #### - Combinación y división de arreglos.\n",
    "\n",
    "### 5. **Operaciones Avanzadas**\n",
    "   #### - Uso de funciones de álgebra lineal: productos matriciales, determinantes"
   ]
  },
  {
   "cell_type": "code",
   "execution_count": null,
   "metadata": {},
   "outputs": [],
   "source": []
  },
  {
   "cell_type": "markdown",
   "metadata": {},
   "source": [
    "\n",
    "# Introducción a NumPy\n"
   ]
  },
  {
   "cell_type": "markdown",
   "metadata": {},
   "source": [
    "\n",
    "### - NumPy es una de las bibliotecas fundamentales en el ecosistema de Python para la ciencia de datos y la computación numérica. \n",
    "\n",
    "### - Proporciona soporte para arreglos multidimensionales y funciones matemáticas avanzadas.\n",
    "### - La convierte en una herramienta esencial para el análisis de datos\n"
   ]
  },
  {
   "cell_type": "code",
   "execution_count": null,
   "metadata": {},
   "outputs": [],
   "source": []
  },
  {
   "cell_type": "markdown",
   "metadata": {},
   "source": [
    "\n",
    "## ¿Qué es NumPy?\n",
    "\n",
    "### NumPy (Numerical Python) es una biblioteca de Python que ofrece:\n",
    "\n",
    "###  - **Arreglos multidimensionales:** Estructuras de datos eficientes para almacenar y manipular grandes conjuntos de datos numéricos.\n",
    "\n",
    "### - **Funciones matemáticas avanzadas:** Operaciones matemáticas y estadísticas que funcionan de manera eficiente en arreglos completos.\n",
    "\n",
    "### - **Operaciones vectorizadas:** Cálculos rápidos sin necesidad de bucles explícitos, gracias a la implementación en C."
   ]
  },
  {
   "cell_type": "code",
   "execution_count": null,
   "metadata": {},
   "outputs": [],
   "source": []
  },
  {
   "cell_type": "code",
   "execution_count": null,
   "metadata": {},
   "outputs": [],
   "source": []
  },
  {
   "cell_type": "markdown",
   "metadata": {},
   "source": [
    "# 1. Instalación de NumPy"
   ]
  },
  {
   "cell_type": "markdown",
   "metadata": {},
   "source": [
    "### - El único requisito previo para instalar NumPy es Python.\n",
    "\n",
    "###  - NumPy se puede instalar con conda, con pip, con un gestor de paquetes en macOS y Linux, o desde el código fuente."
   ]
  },
  {
   "cell_type": "markdown",
   "metadata": {},
   "source": [
    "## 1.1  Crear con conda el ambiente virtual  [El nombre del ambiente es \"CE\" (Computación Evolutiva)]\n",
    "\n",
    "\n",
    "\n",
    "```bash\n",
    "conda create -n CE python\n",
    "```\n",
    "\n",
    "### Activar el ambiente \n",
    "\n",
    "```bash\n",
    "conda activate CE\n",
    "```\n",
    "\n",
    "### Desactivar el ambiente\n",
    "\n",
    "```bash\n",
    "conda deactivate\n",
    "```\n"
   ]
  },
  {
   "cell_type": "markdown",
   "metadata": {},
   "source": [
    "## 1.2  Instalar NumPy\n",
    "\n",
    "### Usando el administrador de paquetes CONDA\n",
    "\n",
    "```bash\n",
    "conda install numpy\n",
    "\n",
    "```\n",
    "\n",
    "### Usando el administrador de paquetes PIP\n",
    "\n",
    "```bash\n",
    "pip install numpy\n",
    "```\n"
   ]
  },
  {
   "cell_type": "code",
   "execution_count": null,
   "metadata": {},
   "outputs": [],
   "source": []
  },
  {
   "cell_type": "code",
   "execution_count": null,
   "metadata": {},
   "outputs": [],
   "source": []
  },
  {
   "cell_type": "markdown",
   "metadata": {},
   "source": [
    "## 2. Conceptos básicos de NumPy\n",
    "\n",
    "### ¿Qué es una \"matriz\"?\n",
    "\n",
    "#### - En programación, una matriz es una estructura para almacenar y recuperar datos. \n",
    "\n",
    "#### - A menudo hablamos de una matriz como si fuera una cuadrícula en el espacio, con cada celda almacenando un elemento de los datos. \n",
    "\n",
    "#### - Por ejemplo, si cada elemento de los datos fuera un número, podríamos visualizar una matriz “unidimensional” como una lista:\n",
    "\n",
    "\n",
    "![image](./figs/fig-np-1d.png)\n",
    "\n",
    "\n",
    "#### Una matriz bidimensional sería como una tabla:\n",
    "\n",
    "![image](./figs/fig-np-2d.png)\n",
    "\n",
    "#### - Una matriz tridimensional sería como un conjunto de tablas, tal vez apiladas como si estuvieran impresas en páginas separadas. \n",
    "\n",
    "#### - En NumPy, esta idea se generaliza a una cantidad arbitraria de dimensiones, la clase de matriz fundamental se llama ndarray: representa una \"matriz N-dimensional\".\n",
    "\n",
    "#### - La mayoría de las matrices de NumPy tienen algunas restricciones. Por ejemplo:\n",
    "\n",
    "   ####  + Todos los elementos de la matriz deben ser del mismo tipo de datos.\n",
    "\n",
    "   ####  + Una vez creada, el tamaño total de la matriz no puede cambiar.\n",
    "\n",
    "   ####  + La forma debe ser \"rectangular\", no \"irregular\"; Por ejemplo, cada fila de una matriz bidimensional debe tener la misma cantidad de columnas.\n",
    "\n",
    "   ####  +  Cuando se cumplen estas condiciones, NumPy aprovecha estas características para hacer que la matriz sea más rápida, más eficiente en el uso de la memoria y más cómoda de usar que las estructuras de datos menos restrictivas.\n",
    "\n",
    "#### En este contexto, se tilizaremos la palabra \"matriz\" para referirnos a una instancia de ndarray."
   ]
  },
  {
   "cell_type": "markdown",
   "metadata": {},
   "source": [
    "## 2.1 Fundamentos de las matrices\n",
    "#### Fundamentos de las matrices\n",
    "\n",
    "\n",
    "#### Una forma de inicializar una matriz es mediante una secuencia de Python, como una lista\n",
    "\n",
    "\n",
    "#### Para empezar a utilizar el paquete se debe importar el paquete NumPy, es común usar el alias $np$\n",
    "\n",
    "```python\n",
    "import numpy as np\n",
    "```\n"
   ]
  },
  {
   "cell_type": "code",
   "execution_count": null,
   "metadata": {},
   "outputs": [],
   "source": [
    "import numpy as np\n",
    "\n",
    "#Creación de un array de NumPy a partir de una lista proporcionada\n",
    "\n",
    "a = np.array([1, 2, 3, 4, 5, 6])\n",
    "print(a)"
   ]
  },
  {
   "cell_type": "markdown",
   "metadata": {},
   "source": [
    "#### Acceso a los elementos\n",
    "\n",
    "-  Se puede acceder a los elementos de una matriz de varias maneras.\n",
    "\n",
    "-  Por ejemplo, podemos acceder a un elemento individual de esta matriz como lo haríamos con un elemento de la lista original: utilizando el índice entero del elemento entre corchetes.\n",
    "- Se indexan desde la posición 0, similar a las listas de Python."
   ]
  },
  {
   "cell_type": "code",
   "execution_count": null,
   "metadata": {},
   "outputs": [],
   "source": [
    "# Extraer el valor del array en la posicón 0\n",
    "print(f\"a[0] = {a[0]}\")\n",
    "\n",
    "# Asignar el valor del array en la posicón 2\n",
    "a[2] = 10\n",
    "\n",
    "print(\"a[2] = {}\".format(a[2]))\n",
    "\n",
    "print(a)"
   ]
  },
  {
   "cell_type": "code",
   "execution_count": null,
   "metadata": {},
   "outputs": [],
   "source": [
    "# Slices (Rebanadas de datos)\n",
    "\n",
    "print(a[:3])\n",
    "\n",
    "print(a[2:])\n"
   ]
  },
  {
   "cell_type": "markdown",
   "metadata": {},
   "source": [
    "### Diferencia con slices\n",
    "- ### Una diferencia importante es que la indexación de una lista mediante \"slices\"  copia los elementos en una nueva lista, pero la segmentación de una matriz devuelve una vista.\n",
    "\n",
    "- ### La vista es un objeto que hace referencia a los datos de la matriz original. \n",
    "- ### La matriz original se puede modificar mediante la vista."
   ]
  },
  {
   "cell_type": "code",
   "execution_count": null,
   "metadata": {},
   "outputs": [],
   "source": [
    "# Se obtiene una slice de a, extrae los elementos de \"a\" a partir del índice 3 \n",
    "a = np.array([1, 2, 3, 4, 5, 6])\n",
    "\n",
    "print(a)\n",
    "\n",
    "b = a[3:]\n",
    "\n",
    "print(b)\n",
    "\n",
    "# Se modifica la vista b (apunta a la dirección de memoria a)\n",
    "b[0] = 40\n",
    "\n",
    "# se imprime a que fue modificado a través de la vista b\n",
    "print(a)"
   ]
  },
  {
   "cell_type": "markdown",
   "metadata": {},
   "source": [
    "## Copia los elementos de un arreglo: np.copy\n"
   ]
  },
  {
   "cell_type": "code",
   "execution_count": null,
   "metadata": {},
   "outputs": [],
   "source": [
    "# hace una copia superficial del arreglo.\n",
    "\n",
    "a = np.array([1, 2, 3, 4, 5, 6])\n",
    "\n",
    "b = a.copy()\n",
    "\n",
    "b[0] = 40\n",
    "\n",
    "print(a)\n",
    "print(b)\n"
   ]
  },
  {
   "cell_type": "code",
   "execution_count": null,
   "metadata": {},
   "outputs": [],
   "source": []
  },
  {
   "cell_type": "code",
   "execution_count": null,
   "metadata": {},
   "outputs": [],
   "source": []
  },
  {
   "cell_type": "code",
   "execution_count": null,
   "metadata": {},
   "outputs": [],
   "source": []
  },
  {
   "cell_type": "markdown",
   "metadata": {},
   "source": [
    "## Matrices bidimensionales y de dimensiones superiores\n",
    "\n",
    "- ### Se pueden inicializar matrices bidimensionales y de dimensiones superiores a partir de secuencias anidadas de Python.\n",
    "\n",
    "- ### En NumPy, a la dimensión de una matriz se la denomina a veces “eje”. \n",
    "\n",
    "- ### Esta terminología puede resultar útil para distinguir entre la dimensionalidad de una matriz y la dimensionalidad de los datos representados por la matriz.\n",
    "\n",
    "- ### Por ejemplo, la matriz \"A\"  podría representar tres puntos, cada uno de ellos dentro de un espacio de cuatro dimensiones, pero A tiene solo dos “ejes”.\n",
    "\n",
    "- ### Otra diferencia entre una matriz y una lista de listas es que se puede acceder a un elemento de la matriz especificando el índice a lo largo de cada eje dentro de un único conjunto de corchetes, separados por comas. Por ejemplo, el elemento 8 está en la fila 1 y la columna 3: A[1,3]"
   ]
  },
  {
   "cell_type": "code",
   "execution_count": null,
   "metadata": {},
   "outputs": [],
   "source": [
    "A = np.array([[1, 2, 3, 4], \n",
    "              [5, 6, 7, 8], \n",
    "              [9, 10, 11, 12]])\n",
    "print(A)"
   ]
  },
  {
   "cell_type": "code",
   "execution_count": null,
   "metadata": {},
   "outputs": [],
   "source": [
    "# Acceso a la matriz dentro del mismo corchete\n",
    "print(A[1,3])\n",
    "\n",
    "# De manera haitual en Python\n",
    "print(A[1][3])\n"
   ]
  },
  {
   "cell_type": "markdown",
   "metadata": {},
   "source": [
    "### 2.1.1  Attributos de Array\n",
    "\n",
    "### ndim\n",
    "- El número de dimensiones de una matriz está contenido en el atributo ndim."
   ]
  },
  {
   "cell_type": "code",
   "execution_count": null,
   "metadata": {},
   "outputs": [],
   "source": [
    "print(A.ndim)"
   ]
  },
  {
   "cell_type": "markdown",
   "metadata": {},
   "source": [
    "\n",
    "### shape\n",
    "- La forma de una matriz es una tupla de números enteros no negativos que especifican la cantidad de elementos a lo largo de cada dimensión."
   ]
  },
  {
   "cell_type": "code",
   "execution_count": null,
   "metadata": {},
   "outputs": [],
   "source": [
    "print(A.shape)\n",
    "# matriz de 3 x 4 (renglones x columnas)"
   ]
  },
  {
   "cell_type": "markdown",
   "metadata": {},
   "source": [
    "\n",
    "### size\n",
    "El número total fijo de elementos de la matriz está contenido en el atributo de tamaño."
   ]
  },
  {
   "cell_type": "code",
   "execution_count": null,
   "metadata": {},
   "outputs": [],
   "source": [
    "print(A.size)\n",
    "# matriz de 3 x 4 (12 elementos)"
   ]
  },
  {
   "cell_type": "markdown",
   "metadata": {},
   "source": [
    "\n",
    "### dtype\n",
    "Las matrices suelen ser \"homogéneas\", lo que significa que contienen elementos de un solo \"tipo de datos\". El tipo de datos se registra en el atributo dtype."
   ]
  },
  {
   "cell_type": "code",
   "execution_count": null,
   "metadata": {},
   "outputs": [],
   "source": [
    "print(A.dtype)\n",
    "\n",
    "# para especificar el tamaño del tipo de dato en la creación del array, float de 64 bits\n",
    "B = np.array([[1, 2, 3, 4], \n",
    "              [5, 6, 7, 8], \n",
    "              [9, 10, 11, 12]], dtype=np.float64)\n",
    "print(B.dtype)              "
   ]
  },
  {
   "cell_type": "markdown",
   "metadata": {},
   "source": [
    "\n",
    "### 2.1.2 Tipos de datos y conversión"
   ]
  },
  {
   "cell_type": "code",
   "execution_count": null,
   "metadata": {},
   "outputs": [],
   "source": [
    "import numpy as np\n",
    "\n",
    "# Crear arreglos con diferentes tipos de datos\n",
    "\n",
    "arr_int = np.array([1, 2, 3, 4], dtype=np.int32)  # Arreglo de enteros 32 bits\n",
    "arr_float = np.array([1.1, 2.0, 3.0, 4.0], dtype=np.float64)  # Arreglo de flotantes 64 bits\n",
    "arr_str = np.array(['A', '2', '3', '4'], dtype=np.str_)  # Arreglo de cadenas unicode\n",
    "\n",
    "print(\"Arreglo de enteros:\")\n",
    "print(arr_int)\n",
    "print(\"Tipo de dato:\", arr_int.dtype)\n",
    "\n",
    "print(\"\\nArreglo de flotantes:\")\n",
    "print(arr_float)\n",
    "print(\"Tipo de dato:\", arr_float.dtype)\n",
    "\n",
    "print(\"\\nArreglo de cadenas:\")\n",
    "print(arr_str)\n",
    "print(\"Tipo de dato:\", arr_str.dtype)\n",
    "            "
   ]
  },
  {
   "cell_type": "code",
   "execution_count": null,
   "metadata": {},
   "outputs": [],
   "source": [
    "\n",
    "# Conversión de tipos de datos\n",
    "arr_int_to_float = arr_int.astype(np.float64)  # Convertir enteros a flotantes\n",
    "arr_float_to_int = arr_float.astype(np.int32)  # Convertir flotantes a enteros\n",
    "\n",
    "print(\"\\nArreglo de enteros convertido a flotantes:\")\n",
    "print(arr_int_to_float)\n",
    "print(\"Tipo de dato:\", arr_int_to_float.dtype)\n",
    "\n",
    "print(\"\\nArreglo de flotantes convertido a enteros:\")\n",
    "print(arr_float_to_int)\n",
    "print(\"Tipo de dato:\", arr_float_to_int.dtype)\n"
   ]
  },
  {
   "cell_type": "markdown",
   "metadata": {},
   "source": [
    "## Otros métodos útiles\n",
    "\n",
    "- Un objeto ndarray tiene muchos métodos que operan sobre la matriz o con ella de alguna manera, y que normalmente devuelven un resultado de matriz.\n",
    "\n",
    "-  Estos métodos se explican brevemente a continuación. (para ver los detalles visitar la documentación de numpy [ver numpy.org](https://numpy.org/doc/stable/reference/arrays.ndarray.html#arrays-ndarray)).\n",
    "\n",
    "| Método                | Descripción                                                       |\n",
    "|-----------------------|-------------------------------------------------------------------|\n",
    "| `numpy.zeros()`       | Crea un arreglo lleno de ceros con la forma especificada.         |\n",
    "| `numpy.ones()`        | Crea un arreglo lleno de unos con la forma especificada.          |\n",
    "| `numpy.empty()`       | Crea un arreglo sin inicializar con la forma especificada.        |\n",
    "| `numpy.arange()`      | Crea un arreglo con valores igualmente espaciados en un rango especificado. |\n",
    "| `numpy.linspace()`    | Crea un arreglo con un número específico de valores igualmente espaciados en un intervalo. |\n",
    "| `numpy.reshape()`     | Cambia la forma de un arreglo sin cambiar sus datos.              |\n",
    "| `numpy.flatten()`     | Devuelve una copia aplanada del arreglo en una dimensión.         |\n",
    "| `numpy.transpose()`   | Devuelve el transpuesto del arreglo.                              |\n",
    "| `numpy.sum()`         | Devuelve la suma de todos los elementos del arreglo o a lo largo de un eje especificado. |\n",
    "| `numpy.mean()`        | Devuelve la media de los elementos del arreglo.                   |\n",
    "| `numpy.std()`         | Devuelve la desviación estándar de los elementos del arreglo.     |\n",
    "| `numpy.min()`         | Devuelve el valor mínimo de los elementos del arreglo.            |\n",
    "| `numpy.max()`         | Devuelve el valor máximo de los elementos del arreglo.            |\n",
    "| `numpy.argmin()`      | Devuelve el índice del valor mínimo en el arreglo.                |\n",
    "| `numpy.argmax()`      | Devuelve el índice del valor máximo en el arreglo.                |\n",
    "| `numpy.sort()`        | Devuelve una copia ordenada del arreglo.                          |\n",
    "| `numpy.argsort()`     | Devuelve los índices según el orden de los valores de los elementos del arreglo|\n",
    "| `numpy.unique()`      | Devuelve los elementos únicos del arreglo.                        |\n",
    "| `numpy.random.randint()`| Devuelve números enteros aleatorios desde una distribución uniforme. |\n"
   ]
  },
  {
   "cell_type": "markdown",
   "metadata": {},
   "source": [
    "### Ejemplos "
   ]
  },
  {
   "cell_type": "markdown",
   "metadata": {},
   "source": [
    "### np.ones"
   ]
  },
  {
   "cell_type": "code",
   "execution_count": null,
   "metadata": {},
   "outputs": [],
   "source": [
    "#Creacion de matriz inicializada con 1s\n",
    "np.ones((3,5))"
   ]
  },
  {
   "cell_type": "markdown",
   "metadata": {},
   "source": [
    "### np.zeros"
   ]
  },
  {
   "cell_type": "code",
   "execution_count": null,
   "metadata": {},
   "outputs": [],
   "source": [
    "#Creacion de matriz inicializada con 0s\n",
    "np.zeros((3,5))"
   ]
  },
  {
   "cell_type": "markdown",
   "metadata": {},
   "source": [
    "### np.eye"
   ]
  },
  {
   "cell_type": "code",
   "execution_count": null,
   "metadata": {},
   "outputs": [],
   "source": [
    "#Creacion de matriz cuadrada con 1s en la diagonal\n",
    "\n",
    "np.eye(5)"
   ]
  },
  {
   "cell_type": "markdown",
   "metadata": {},
   "source": [
    "### np.arange"
   ]
  },
  {
   "cell_type": "code",
   "execution_count": null,
   "metadata": {},
   "outputs": [],
   "source": [
    "# arange: crea un arreglo igualmente espaciado (inicio, parada, paso),  en el intervalo [inicio, parada)\n",
    "# \n",
    "print(np.arange(0,15, 1))\n",
    "\n",
    "print(np.arange(-10,10 + 1, 2))\n"
   ]
  },
  {
   "cell_type": "markdown",
   "metadata": {},
   "source": [
    "### np.random.rand"
   ]
  },
  {
   "cell_type": "code",
   "execution_count": null,
   "metadata": {},
   "outputs": [],
   "source": [
    "# rand: crea una muestra (muestras) de acuerdo a una distribución uniforme sobre  el intervalo [0,1)\n",
    "# crea una matriz de 3x4\n",
    "a = np.random.rand(3,4)\n",
    "\n",
    "print(a)\n",
    "\n"
   ]
  },
  {
   "cell_type": "code",
   "execution_count": null,
   "metadata": {},
   "outputs": [],
   "source": [
    "# Los resultados son de la distribución “uniforme continua” en el intervalo indicado. Para tomar una muestra, Uniforme[a,b) con b > a\n",
    "# multiplique el resultado de rand() por (b-a) y añada a:\n",
    "\n",
    "\n",
    "import numpy as np\n",
    "a = -10\n",
    "b =  10\n",
    "\n",
    "(b - a) * np.random.rand() + a"
   ]
  },
  {
   "cell_type": "markdown",
   "metadata": {},
   "source": [
    "### np.random.randn\n",
    "\n",
    "<img src=\"figs/fig-dnormal.png\" width=\"30%\">\n"
   ]
  },
  {
   "cell_type": "code",
   "execution_count": null,
   "metadata": {},
   "outputs": [],
   "source": [
    "# randn: crera una muestra (muestras) de acuerdo a la distribución estándar normal, media=0, varianza=1\n",
    "# crea una matriz de 3x4\n",
    "a = np.random.randn(3,4)\n",
    "\n",
    "print(a)\n",
    "\n"
   ]
  },
  {
   "cell_type": "markdown",
   "metadata": {},
   "source": [
    "### np.random.normal"
   ]
  },
  {
   "cell_type": "code",
   "execution_count": null,
   "metadata": {},
   "outputs": [],
   "source": [
    "# normal: Extraer muestras aleatorias de una distribución normal (gaussiana).\n",
    "# crea una matriz de 3x4\n",
    "mu, sigma = 0, 0.1 # media y desviación estándard\n",
    "s = np.random.normal(mu, sigma, 10)\n",
    "print(s)\n",
    "\n"
   ]
  },
  {
   "cell_type": "markdown",
   "metadata": {},
   "source": [
    "### numpy.random.uniform\n",
    "\n",
    "#### Distribución uniforme continua"
   ]
  },
  {
   "cell_type": "code",
   "execution_count": null,
   "metadata": {},
   "outputs": [],
   "source": [
    "# uniform: Extraer muestras de una distribución uniforme ( cualquier valor dentro del intervalo dado tiene la misma probabilidad de ser extraído).\n",
    "# random.uniform(low=0.0, high=1.0, size=None)\n",
    "# Las muestras se distribuyen uniformemente en el intervalo semiabierto [low, high) (incluye low, pero excluye high).\n",
    "import numpy as np \n",
    "\n",
    "s = np.random.uniform(1,10)\n",
    "print(s)\n",
    "\n"
   ]
  },
  {
   "cell_type": "code",
   "execution_count": null,
   "metadata": {},
   "outputs": [],
   "source": [
    "#Crea un vector con distribución uniforme\n",
    "s = np.random.uniform(1,10, size=5)\n",
    "print(s)"
   ]
  },
  {
   "cell_type": "code",
   "execution_count": null,
   "metadata": {},
   "outputs": [],
   "source": [
    "#Crea una matriz de 3x4 con distribución uniforme\n",
    "s = np.random.uniform(1,10, size=(3,4))\n",
    "print(s)"
   ]
  },
  {
   "cell_type": "markdown",
   "metadata": {},
   "source": [
    "### np.random.randint\n",
    "#### Distribución uniforme discretra"
   ]
  },
  {
   "cell_type": "code",
   "execution_count": null,
   "metadata": {},
   "outputs": [],
   "source": [
    "import numpy as np\n",
    "# randintn: Devuelve números enteros aleatorios desde un número inicial  (inclusive) hasta un valor final (exclusivo) de una distribución uniforme discreta.\n",
    "#  np.random.randint(inicial, final, size=xxx)\n",
    "\n",
    "\n",
    "# Devuelve un número en el intervalo  [-10,  10) \n",
    "a = np.random.randint(-10,10)\n",
    "print(a)"
   ]
  },
  {
   "cell_type": "code",
   "execution_count": null,
   "metadata": {},
   "outputs": [],
   "source": [
    "\n",
    "# Devuelve un número en le intervalo [1, 10)\n",
    "a = np.random.randint(1,10)\n",
    "print(a)\n"
   ]
  },
  {
   "cell_type": "code",
   "execution_count": null,
   "metadata": {},
   "outputs": [],
   "source": [
    "\n",
    "# Devuelve un vector número en el intervalo [1, 20)\n",
    "a = np.random.randint(1,20, size=10)\n",
    "print(a)\n"
   ]
  },
  {
   "cell_type": "code",
   "execution_count": null,
   "metadata": {},
   "outputs": [],
   "source": [
    "\n",
    "# Crea una matriz de 3x4 en el intervalo [1,10)\n",
    "a = np.random.randint(1,10, (3,4))\n",
    "print(a)\n"
   ]
  },
  {
   "cell_type": "markdown",
   "metadata": {},
   "source": [
    "### np.linspace"
   ]
  },
  {
   "cell_type": "code",
   "execution_count": null,
   "metadata": {},
   "outputs": [],
   "source": [
    "# linspace: Devuelve el número de muestras espaciadas uniformemente, calculadas sobre el intervalo [inicio, fin] dependiendo del valor endpoint=True (default) incluye al valor \"fin\".\n",
    "# \n",
    "import numpy as np\n",
    "x = np.linspace(0, 10, 30)  # 30 puntos entre 0 y 10\n",
    "print(x)\n"
   ]
  },
  {
   "cell_type": "markdown",
   "metadata": {},
   "source": [
    "### np.ones_like"
   ]
  },
  {
   "cell_type": "code",
   "execution_count": null,
   "metadata": {},
   "outputs": [],
   "source": [
    "# ones_like: Devuelve una matriz de unos con la misma forma y tipo que una matriz dada.\n",
    "\n",
    "# Crea una matriz de 3x4\n",
    "\n",
    "mu, sigma = 0, 0.1 # media y desviación estándard\n",
    "y = np.random.normal(mu, sigma, (3,4))\n",
    "print(y)\n",
    "b = np.ones_like(y)\n",
    "print(b)\n"
   ]
  },
  {
   "cell_type": "code",
   "execution_count": null,
   "metadata": {},
   "outputs": [],
   "source": []
  },
  {
   "cell_type": "markdown",
   "metadata": {},
   "source": [
    "### np.reshape"
   ]
  },
  {
   "cell_type": "code",
   "execution_count": null,
   "metadata": {},
   "outputs": [],
   "source": [
    "# Cambia la forma de un arreglo sin cambiar sus datos\n",
    "\n",
    "A = np.arange(0,15)\n",
    "print(\"A =\",  A)\n",
    "print(A.shape)\n"
   ]
  },
  {
   "cell_type": "code",
   "execution_count": null,
   "metadata": {},
   "outputs": [],
   "source": [
    "\n",
    "A = A.reshape(3,5)\n",
    "print(\"forma nueva A = \")\n",
    "print(A)\n",
    "print(A.shape)\n"
   ]
  },
  {
   "cell_type": "markdown",
   "metadata": {},
   "source": [
    "### np.full"
   ]
  },
  {
   "cell_type": "code",
   "execution_count": null,
   "metadata": {},
   "outputs": [],
   "source": [
    "# Crea un matriz con valores inicializados a un valor específico ( matriz, valor)\n",
    "\n",
    "np.full((3, 4), 8)\n"
   ]
  },
  {
   "cell_type": "markdown",
   "metadata": {},
   "source": [
    "### np.insert"
   ]
  },
  {
   "cell_type": "code",
   "execution_count": null,
   "metadata": {},
   "outputs": [],
   "source": [
    "# Insertar valores a lo largo del eje dado antes de los índices dados.\n",
    "\n",
    "a = np.array([1, 2, 3, 4])\n",
    "print(np.insert(a, 1, 5))\n",
    "\n",
    "print(np.insert(a, 1, [5, 6, 7, 8]))\n"
   ]
  },
  {
   "cell_type": "markdown",
   "metadata": {},
   "source": [
    "### np.flatten"
   ]
  },
  {
   "cell_type": "code",
   "execution_count": null,
   "metadata": {},
   "outputs": [],
   "source": [
    "# Devuelve una copia de la matriz colapsada en una dimensión.\n",
    "\n",
    "a = np.array([[1, 1], [2, 2], [3, 3]])\n",
    "print(a.flatten())\n"
   ]
  },
  {
   "cell_type": "markdown",
   "metadata": {},
   "source": [
    "## Ordenamiento"
   ]
  },
  {
   "cell_type": "markdown",
   "metadata": {},
   "source": [
    "### np.argsort"
   ]
  },
  {
   "cell_type": "code",
   "execution_count": null,
   "metadata": {},
   "outputs": [],
   "source": [
    "# Devuelve los índices que representan el orden del arreglo A\n",
    "\n",
    "A = np.array([10, 5, 1, 0, 20])\n",
    "idxs = A.argsort()\n",
    "print(idxs)\n",
    "for k in idxs:\n",
    "    print(A[k], end=\" \")\n",
    "\n",
    "# equivale a \n",
    "\n",
    "# print()\n",
    "# print(A[idxs])\n"
   ]
  },
  {
   "cell_type": "markdown",
   "metadata": {},
   "source": [
    "### np.sort"
   ]
  },
  {
   "cell_type": "code",
   "execution_count": null,
   "metadata": {},
   "outputs": [],
   "source": [
    "# Devuelve una copia ordenada de una matriz.\n",
    "import numpy as np\n",
    "\n",
    "a = np.array([[1,4, 5],[3, 1, 2]])\n",
    "np.sort(a)  "
   ]
  },
  {
   "cell_type": "code",
   "execution_count": null,
   "metadata": {},
   "outputs": [],
   "source": [
    "# Devuelve una copia ordenada de una matriz.\n",
    "import numpy as np\n",
    "# definiendo los tipos de datos\n",
    "\n",
    "dtype = [('nombre', \"U30\"), ('edad', int)]\n",
    "\n",
    "datos = [('Pedro', 38), ('Arturo', 41),  ('Juan', 35), ('Maria', 35)]\n",
    "\n",
    "a = np.array(datos, dtype=dtype)\n",
    "\n",
    "print(np.sort(a, order=\"nombre\"))\n",
    "print(np.sort(a, order=\"edad\"))"
   ]
  },
  {
   "cell_type": "markdown",
   "metadata": {},
   "source": [
    "### sorted\n",
    "#### La función sorted() devuelve una lista ordenada del objeto iterable especificado."
   ]
  },
  {
   "cell_type": "code",
   "execution_count": null,
   "metadata": {},
   "outputs": [],
   "source": [
    "# definiendo los tipos de datos\n",
    "datos = [('Pedro', 38), ('Arturo', 41),  ('Juan', 35), ('Maria', 35)]\n",
    "z = sorted(datos) # ordenando por el nombre\n",
    "a = sorted(datos, key=lambda x: x[0]) # ordenando por el nombre\n",
    "b = sorted(datos, key=lambda x: x[1]) # ordenando por la edad\n",
    "print(z)\n",
    "print(a)\n",
    "print(b)"
   ]
  },
  {
   "cell_type": "markdown",
   "metadata": {},
   "source": [
    "## Selección de datos"
   ]
  },
  {
   "cell_type": "markdown",
   "metadata": {},
   "source": [
    "### np.random.choice"
   ]
  },
  {
   "cell_type": "code",
   "execution_count": null,
   "metadata": {},
   "outputs": [],
   "source": [
    "# random.choice(a, size=None, replace=True, p=None)\n",
    "import numpy as np \n",
    "\n",
    "# Genera una muestra aleatoria uniforme a partir de np.arange(5) de tamaño 3:\n",
    "\n",
    "np.random.choice(5, 3)"
   ]
  },
  {
   "cell_type": "code",
   "execution_count": null,
   "metadata": {},
   "outputs": [],
   "source": [
    "# Genera una muestra aleatoria no uniforme de np.arange(5) de tamaño 3. De acuerdo a las probabilidades p\n",
    "\n",
    "np.random.choice(5, 3, p=[0.5, 0, 0.3, 0.2, 0])"
   ]
  },
  {
   "cell_type": "code",
   "execution_count": null,
   "metadata": {},
   "outputs": [],
   "source": [
    "# Genera una muestra aleatoria uniforme a partir de np.arange(5) de tamaño 3 sin reemplazo:\n",
    "np.random.choice(5, 3, replace=False)\n"
   ]
  },
  {
   "cell_type": "code",
   "execution_count": null,
   "metadata": {},
   "outputs": [],
   "source": [
    "# Genera una muestra aleatoria uniforme a partir de np.arange(5) de tamaño 3 con reemplazo:\n",
    "np.random.choice(5, 3, replace=True)"
   ]
  },
  {
   "cell_type": "markdown",
   "metadata": {},
   "source": [
    "## Permutaciones y combinaciones"
   ]
  },
  {
   "cell_type": "markdown",
   "metadata": {},
   "source": [
    "### Permutaciones\n",
    "- ####  **Permutaciones sin repetición**\n",
    "    - Cuando el orden **sí** importa:\n",
    "$$\n",
    "P(n, r) = \\frac{n!}{(n - r)!}\n",
    "$$\n",
    "\n",
    "- #### **Permutaciones con repetición**\n",
    "    - Cuando el orden **sí** importa y se pueden repetir elementos:\n",
    "$$\n",
    "P_r(n) = n^r\n",
    "$$\n",
    "\n",
    "**Donde:**\n",
    "- $ n $ es el número total de elementos.\n",
    "- $ r $ es el número de elementos seleccionados.\n",
    "- $ n! $ es el factorial de $ n $, es decir, $ n! = n \\times (n-1) \\times \\dots \\times 1 $.\n",
    "\n"
   ]
  },
  {
   "cell_type": "markdown",
   "metadata": {},
   "source": [
    "#### Permutaciones sin repetición"
   ]
  },
  {
   "cell_type": "code",
   "execution_count": null,
   "metadata": {},
   "outputs": [],
   "source": [
    "import numpy as np\n",
    "from itertools import permutations\n",
    "\n",
    "# Conjunto de elementos\n",
    "elementos = np.array([1, 2, 3, 4])\n",
    "\n",
    "# Generar todas las permutaciones de 2 elementos sin repetición\n",
    "r = 2\n",
    "perms = np.array(list(permutations(elementos, r)))\n",
    "\n",
    "# Imprimir resultado\n",
    "print(perms)"
   ]
  },
  {
   "cell_type": "markdown",
   "metadata": {},
   "source": [
    "#### Permutaciones con repetición"
   ]
  },
  {
   "cell_type": "code",
   "execution_count": null,
   "metadata": {},
   "outputs": [],
   "source": [
    "import numpy as np\n",
    "from itertools import product\n",
    "\n",
    "# Conjunto de elementos\n",
    "elementos = np.array([1, 2, 3])\n",
    "\n",
    "# Longitud de las permutaciones\n",
    "r = 3  # Número de posiciones\n",
    "\n",
    "# Generar todas las permutaciones con repetición\n",
    "perms_con_repeticion = np.array(list(product(elementos, repeat=r)))\n",
    "\n",
    "# Imprimir resultado\n",
    "print(\"Total de permutaciones con repeticion:\",  len(perms_con_repeticion))\n",
    "print(perms_con_repeticion)\n"
   ]
  },
  {
   "cell_type": "markdown",
   "metadata": {},
   "source": [
    "### np.random.permutation"
   ]
  },
  {
   "cell_type": "code",
   "execution_count": null,
   "metadata": {},
   "outputs": [],
   "source": [
    "# Permuta aleatoriamente una secuencia o devuelve un rango permutado en el intervalo [0,10)\n",
    "np.random.permutation(10)"
   ]
  },
  {
   "cell_type": "code",
   "execution_count": null,
   "metadata": {},
   "outputs": [],
   "source": [
    "# Permuta aleatoriamente la secuencia entera del intervalo [1,11)\n",
    "np.random.permutation(np.arange(1, 11))"
   ]
  },
  {
   "cell_type": "markdown",
   "metadata": {},
   "source": [
    "### Combinaciones\n",
    "\n",
    "- ####  **Combinaciones sin repetición**\n",
    "    - Cuando el orden **no** importa:\n",
    "$$\n",
    "C(n, r) = \\frac{n!}{r!(n - r)!}\n",
    "$$\n",
    "\n",
    "- #### **Combinaciones con repetición**\n",
    "    - Cuando el orden **no** importa y se pueden repetir elementos:\n",
    "$$\n",
    "C_r(n) = \\frac{(r + n - 1)!}{r!(n - 1)!}\n",
    "$$\n",
    "\n",
    "**Donde:**\n",
    "- $ n $ es el número total de elementos.\n",
    "- $ r $ es el número de elementos seleccionados.\n",
    "- $ n! $ es el factorial de $ n $, es decir, $ n! = n \\times (n-1) \\times \\dots \\times 1 $.\n"
   ]
  },
  {
   "cell_type": "markdown",
   "metadata": {},
   "source": [
    "#### Combinaciones sin repetición"
   ]
  },
  {
   "cell_type": "code",
   "execution_count": null,
   "metadata": {},
   "outputs": [],
   "source": [
    "import numpy as np\n",
    "from itertools import combinations\n",
    "\n",
    "elementos = np.array([1, 2, 3, 4])\n",
    "\n",
    "# Genera todas las combinaciones de 3 elementos sin repetición\n",
    "r = 3\n",
    "comb = np.array(list(combinations(elementos, r)))  # Combinaciones de 3 elementos\n",
    "\n",
    "print(comb)"
   ]
  },
  {
   "cell_type": "markdown",
   "metadata": {},
   "source": [
    "#### Combinaciones con repetición"
   ]
  },
  {
   "cell_type": "code",
   "execution_count": null,
   "metadata": {},
   "outputs": [],
   "source": [
    "import numpy as np\n",
    "from itertools import combinations_with_replacement\n",
    "\n",
    "# Conjunto de elementos\n",
    "elementos = np.array([1, 2, 3, 4])\n",
    "\n",
    "# Tamaño de la combinación\n",
    "r = 2  \n",
    "\n",
    "# Generar todas las combinaciones con repetición\n",
    "combs_con_repeticion = np.array(list(combinations_with_replacement(elementos, r)))\n",
    "\n",
    "# Imprimir resultado\n",
    "print(combs_con_repeticion)\n"
   ]
  },
  {
   "cell_type": "code",
   "execution_count": null,
   "metadata": {},
   "outputs": [],
   "source": []
  },
  {
   "cell_type": "code",
   "execution_count": null,
   "metadata": {},
   "outputs": [],
   "source": []
  },
  {
   "cell_type": "code",
   "execution_count": null,
   "metadata": {},
   "outputs": [],
   "source": []
  },
  {
   "cell_type": "markdown",
   "metadata": {},
   "source": [
    "# Módulo random"
   ]
  },
  {
   "cell_type": "markdown",
   "metadata": {},
   "source": [
    "### random.sample()\n",
    "- ### Selecciona una muestra aleatoria de elementos sin repetición de una secuencia o conjunto"
   ]
  },
  {
   "cell_type": "code",
   "execution_count": null,
   "metadata": {},
   "outputs": [],
   "source": [
    "# La función random.sample() selecciona una muestra aleatoria de elementos sin repetición de una secuencia o conjunto. \n",
    "# A diferencia de funciones como numpy.random.sample(), esta trabaja con listas o conjuntos, no genera números aleatorios por defecto.\n",
    "\n",
    "import random\n",
    "\n",
    "# Lista de elementos\n",
    "datos = [10, 20, 30, 40, 50]\n",
    "\n",
    "# Elegir una muestra de 3 elementos\n",
    "muestra = random.sample(datos, 3)\n",
    "print(\"Muestra aleatoria:\", muestra)\n"
   ]
  },
  {
   "cell_type": "code",
   "execution_count": null,
   "metadata": {},
   "outputs": [],
   "source": [
    "frase = \"Python\"\n",
    "muestra_letras = random.sample(frase, 3)\n",
    "print(\"Muestra de letras:\", muestra_letras)"
   ]
  },
  {
   "cell_type": "code",
   "execution_count": null,
   "metadata": {},
   "outputs": [],
   "source": [
    "# Crear una matriz 3x3\n",
    "matriz = np.array([[1, 2, 3],\n",
    "                   [4, 5, 6],\n",
    "                   [7, 8, 9]])\n",
    "\n",
    "print(matriz.tolist())\n",
    "\n",
    "# Muestra aleatoria de filas completas (sin repetición)\n",
    "\n",
    "filas_muestra = random.sample(matriz.tolist(), 2)\n",
    "print(\"Muestra aleatoria de filas:\", filas_muestra)"
   ]
  },
  {
   "cell_type": "code",
   "execution_count": null,
   "metadata": {},
   "outputs": [],
   "source": []
  },
  {
   "cell_type": "code",
   "execution_count": null,
   "metadata": {},
   "outputs": [],
   "source": []
  },
  {
   "cell_type": "markdown",
   "metadata": {},
   "source": [
    "## Ejercicios\n"
   ]
  },
  {
   "cell_type": "markdown",
   "metadata": {},
   "source": [
    "\n",
    "- Ejercicio 1: Selección aleatoria de elementos\n",
    "    - Dado un conjunto de números del 1 al 8, selecciona 5 números aleatorios con reemplazo, usando la función choice\n",
    "    - Preguntas\n",
    "        - ¿Qué sucede si cambias replace=True a replace=False?\n",
    "        - ¿Cómo harías para obtener una selección de 3 elementos sin repetición?"
   ]
  },
  {
   "cell_type": "markdown",
   "metadata": {},
   "source": [
    "- Ejercicio 2: Generar todas las combinaciones\n",
    "    - Dado el conjunto {A, B, C, D}, genera todas las combinaciones de tamaño 2 sin importar el orden.\n",
    "    - Preguntas\n",
    "        - ¿Cuántas combinaciones de 3 elementos puedes generar?\n",
    "        - ¿Cómo se verían las combinaciones si permitiéramos repetición?\n"
   ]
  },
  {
   "cell_type": "markdown",
   "metadata": {},
   "source": [
    "- Ejercicio 3: Generar todas las permutaciones\n",
    "    - Dado el conjunto {A, C , G,  T}, genera todas las permutaciones de tamaño 2.\n",
    "    - Preguntas\n",
    "        - ¿Cómo cambia el número de resultados si usamos permutations(numeros, 3)?\n",
    "        - ¿Cómo podrías modificar el código para incluir repetición?\n"
   ]
  },
  {
   "cell_type": "markdown",
   "metadata": {},
   "source": [
    "\n",
    "- Ejercicio 4: Selección de individuos por torneo\n",
    "    - Dada la siguiente población y sus aptitudes, seleccionar 3 individuos al azar; mostrar los individuos y sus correspondientes aptitudes; y seleccionar al mejor según su aptitud.\n",
    "    - Población representada por valores de aptitud (fitness)\n",
    "        - poblacion = np.array(['A', 'B', 'C', 'D', 'E'])\n",
    "        - aptitud = np.array([10, 30, 20, 50, 40])  # Mayor es mejor\n"
   ]
  },
  {
   "cell_type": "markdown",
   "metadata": {},
   "source": [
    "\n",
    "- Ejercicio 5: Generación de una Población Inicial Sin Repeticiones\n",
    "\n",
    "    - En algoritmos genéticos, la población inicial a menudo se genera con soluciones distintas. Por ejemplo, para el problema de las 8 Reinas, queremos que cada solución tenga una permutación única de las filas sin repetición de los elementos, por ejemplo [1,4,5,6,7,8,3,2]. Cada columna representa la posición en esa columa y el valor representa la fila de la reina. Puede iniciar ya sea en 1 como en el ejemplo anterior o en 0,  [0,3,4,5,6,7,3,1]\n",
    "\n",
    "    - Generar una población inicial de 50 individuos sin repeticiones\n",
    "\n",
    "    - Generar una población inicial de 50 individuos permitiendo que haya repeticiones de los números"
   ]
  },
  {
   "cell_type": "code",
   "execution_count": null,
   "metadata": {},
   "outputs": [],
   "source": []
  },
  {
   "cell_type": "code",
   "execution_count": null,
   "metadata": {},
   "outputs": [],
   "source": []
  },
  {
   "cell_type": "code",
   "execution_count": null,
   "metadata": {},
   "outputs": [],
   "source": []
  },
  {
   "cell_type": "code",
   "execution_count": null,
   "metadata": {},
   "outputs": [],
   "source": []
  },
  {
   "cell_type": "markdown",
   "metadata": {},
   "source": [
    "### Ejemplo de graficación con matplotlib\n",
    "#### plot: se utiliza comúnmente para crear gráficos de líneas que conectan puntos de datos, lo que es ideal para mostrar cómo cambian los datos en relación con otra variable, como el tiempo."
   ]
  },
  {
   "cell_type": "code",
   "execution_count": null,
   "metadata": {},
   "outputs": [],
   "source": [
    "import matplotlib.pyplot as plt\n",
    "import numpy as np\n",
    "\n",
    "# Datos para el gráfico\n",
    "x = np.linspace(0, 10, 100)  # 100 puntos entre 0 y 10\n",
    "y1 = np.sin(x)               # Función seno\n",
    "y2 = np.cos(x)               # Función coseno\n",
    "\n",
    "# Crear una nueva figura\n",
    "plt.figure(figsize=(10, 6))\n",
    "\n",
    "# Graficar la función seno\n",
    "# datos tabulares para el eje x =x; eje y = y1\n",
    "\n",
    "plt.plot(x, y1, label='Seno', color='orange', linestyle=':', linewidth=2)\n",
    "\n",
    "# Graficar la función coseno\n",
    "\n",
    "plt.plot(x, y2, label='Coseno', color='green', linestyle='-', linewidth=2)\n",
    "\n",
    "# Añadir título y etiquetas\n",
    "plt.title('Funciones Seno y Coseno')\n",
    "plt.xlabel('Eje X')\n",
    "plt.ylabel('Eje Y')\n",
    "\n",
    "# Añadir una leyenda\n",
    "plt.legend()\n",
    "\n",
    "# Mostrar el gráfico\n",
    "plt.grid(True)\n",
    "plt.show()"
   ]
  },
  {
   "cell_type": "markdown",
   "metadata": {},
   "source": [
    "### Ejemplo. Gráfico de barras\n",
    "#### la función \"bar\" se utiliza para crear gráficos de barras. Los gráficos de barras son útiles para visualizar datos categóricos o discretos, permitiendo comparar fácilmente diferentes categorías en términos de una variable cuantitativa."
   ]
  },
  {
   "cell_type": "code",
   "execution_count": null,
   "metadata": {},
   "outputs": [],
   "source": [
    "import matplotlib.pyplot as plt\n",
    "\n",
    "\n",
    "# Datos de ejemplo\n",
    "materias = ['Matemáticas', 'Ciencia', 'Historia', 'Lengua', 'Arte']\n",
    "calificaciones = [85, 90, 78, 88, 95]\n",
    "\n",
    "# Crear el gráfico de barras\n",
    "plt.figure(figsize=(10, 6))\n",
    "plt.bar(materias, calificaciones, color='skyblue', edgecolor='black')\n",
    "\n",
    "# Añadir título y etiquetas\n",
    "plt.title('Calificaciones del Estudiante')\n",
    "plt.xlabel('Materias')\n",
    "plt.ylabel('Calificaciones')\n",
    "\n",
    "# Mostrar el gráfico\n",
    "plt.grid(axis='y', linestyle='--', alpha=0.5)\n",
    "plt.show()\n"
   ]
  },
  {
   "cell_type": "code",
   "execution_count": null,
   "metadata": {},
   "outputs": [],
   "source": [
    "import matplotlib.pyplot as plt\n",
    "import numpy as np\n",
    "\n",
    "# Generar arreglo\n",
    "arreglo = np.random.randn(100)\n",
    "\n",
    "# Crear histograma  bins= tamaño del espaciado delos datos\n",
    "plt.hist(arreglo, bins=5, edgecolor='black')\n",
    "plt.title(\"Histograma de datos generados con randn\")\n",
    "plt.xlabel(\"Valor\")\n",
    "plt.ylabel(\"Frecuencia\")\n",
    "plt.show()"
   ]
  },
  {
   "cell_type": "code",
   "execution_count": null,
   "metadata": {},
   "outputs": [],
   "source": []
  },
  {
   "cell_type": "code",
   "execution_count": null,
   "metadata": {},
   "outputs": [],
   "source": []
  },
  {
   "cell_type": "markdown",
   "metadata": {},
   "source": [
    "### Ejercicio 1\n",
    "\n",
    "1. **Crear Matrices**:\n",
    "   - Crear una matriz diagonal de $ 5 \\times 5 $ con valores 1 en la diagonal principal y 0 en el resto.\n",
    "   - Crear una matriz de 10 individuos representados por las filas y 20 genes representados por las columnas. La inicialización de los individuos es aleatoria y los valores de los alelos solo pueden ser  0 o 1.\n",
    "\n",
    "2. **Extraer Submatrices y Cambiar Forma**: \n",
    "   - Extraer una submatriz de $ 2 \\times 2 $ de la matriz creada en el punto anterior de $ 5 \\times 5 $.\n",
    "   - Crear un arreglo del 1 al 20 (20 elementos) y cambiar su forma  a una matriz $ 5 \\times 4 $.\n",
    "\n"
   ]
  },
  {
   "cell_type": "markdown",
   "metadata": {},
   "source": [
    "### Ejercicio 2\n",
    "#### Dada la matriz A que representa una población, que contiene 10 individuos y 4 genes por cada individuo,  seleccionar de manera aleatoria 2 individuos y mostrar la cantidad total de genes activos, 1, y genes apagados, 0,  que posee.\n",
    "```python\n",
    "A = \n",
    "[[1, 0, 1, 0],\n",
    " [0, 1, 0, 1],\n",
    " [1, 1, 1, 0],\n",
    " [0, 0, 1, 1],\n",
    " [1, 0, 0, 1],\n",
    " [0, 1, 1, 0],\n",
    " [1, 1, 0, 1],\n",
    " [0, 0, 1, 0],\n",
    " [1, 0, 1, 1],\n",
    " [0, 1, 0, 0]]\n",
    "```"
   ]
  },
  {
   "cell_type": "code",
   "execution_count": null,
   "metadata": {},
   "outputs": [],
   "source": []
  },
  {
   "cell_type": "code",
   "execution_count": null,
   "metadata": {},
   "outputs": [],
   "source": []
  },
  {
   "cell_type": "code",
   "execution_count": null,
   "metadata": {},
   "outputs": [],
   "source": []
  },
  {
   "cell_type": "code",
   "execution_count": null,
   "metadata": {},
   "outputs": [],
   "source": []
  },
  {
   "cell_type": "markdown",
   "metadata": {},
   "source": [
    "##  3. **Operaciones Matemáticas y Estadísticas**"
   ]
  },
  {
   "cell_type": "code",
   "execution_count": null,
   "metadata": {},
   "outputs": [],
   "source": [
    "import numpy as np\n",
    "\n",
    "# Crear arreglos\n",
    "A = np.array([1, 2, 3, 4])\n",
    "B = np.array([5, 6, 7, 8])\n",
    "\n",
    "\n",
    "# Operaciones elementales\n",
    "print(\"Arreglo  A:\", A)\n",
    "print(\"Arreglo B:\", B)\n",
    "\n",
    "# Suma y resta\n",
    "suma = A + B\n",
    "resta = A - B\n",
    "\n",
    "print(\"\\nSuma de A+B:\")\n",
    "print(suma)\n",
    "\n",
    "print(\"\\nResta de A-B :\")\n",
    "print(resta)\n"
   ]
  },
  {
   "cell_type": "code",
   "execution_count": null,
   "metadata": {},
   "outputs": [],
   "source": [
    "\n",
    "# Multiplicación y división (elemento a elemento)\n",
    "\n",
    "multiplicacion = A * B\n",
    "division = A / B\n",
    "\n",
    "print(\"\\nMultiplicación de arreglos:\")\n",
    "print(multiplicacion)\n",
    "\n",
    "print(\"\\nDivisión de arreglos:\")\n",
    "print(division)\n"
   ]
  },
  {
   "cell_type": "markdown",
   "metadata": {},
   "source": [
    "### Operaciones avanzadas"
   ]
  },
  {
   "cell_type": "markdown",
   "metadata": {},
   "source": [
    "### Potencia: np.power"
   ]
  },
  {
   "cell_type": "code",
   "execution_count": null,
   "metadata": {},
   "outputs": [],
   "source": [
    "# Operaciones matemáticas\n",
    "\n",
    "print(\"\\nOperaciones matemáticas avanzadas:\")\n",
    "\n",
    "# Potencia\n",
    "C = np.power(A, 2)  # Eleva cada elemento de A al cuadrado\n",
    "print(\"Potencia (A^2):\")\n",
    "print(C)"
   ]
  },
  {
   "cell_type": "markdown",
   "metadata": {},
   "source": [
    "### Raíz cuadrada: np.sqrt"
   ]
  },
  {
   "cell_type": "code",
   "execution_count": null,
   "metadata": {},
   "outputs": [],
   "source": [
    "\n",
    "# Raíz cuadrada\n",
    "\n",
    "D = np.sqrt(B)  # Calcula la raíz cuadrada de cada elemento de B\n",
    "print(\"Raíz cuadrada de B:\")\n",
    "print(D)\n",
    "\n"
   ]
  },
  {
   "cell_type": "markdown",
   "metadata": {},
   "source": [
    "### Media aritmética: np.mean"
   ]
  },
  {
   "cell_type": "code",
   "execution_count": null,
   "metadata": {},
   "outputs": [],
   "source": [
    "\n",
    "# Estadísticas\n",
    "print(\"\\nEstadísticas:\")\n",
    "\n",
    "# Media\n",
    "import numpy as np\n",
    "fitness = np.array([3.5, 2.7, 4.8, 5.1])\n",
    "mean_fitness = np.mean(fitness)\n",
    "print(f\"Fitness promedio: {mean_fitness}\")"
   ]
  },
  {
   "cell_type": "markdown",
   "metadata": {},
   "source": [
    "### Varianza: np.var"
   ]
  },
  {
   "cell_type": "code",
   "execution_count": null,
   "metadata": {},
   "outputs": [],
   "source": [
    "fitness = np.array([3.5, 2.7, 4.8, 5.1])\n",
    "\n",
    "var_fitness = np.var(fitness)\n",
    "print(\"Varianza del fitness:\", var_fitness)"
   ]
  },
  {
   "cell_type": "markdown",
   "metadata": {},
   "source": [
    "### Desviación estándard: np.std"
   ]
  },
  {
   "cell_type": "code",
   "execution_count": null,
   "metadata": {},
   "outputs": [],
   "source": [
    "# Desviación estándard\n",
    "fitness = np.array([3.5, 2.7, 4.8, 5.1])\n",
    "\n",
    "desviacion_estandar = np.std(fitness)\n",
    "\n",
    "print(f\"Desviación estándar del fitness:{desviacion_estandar}\")\n"
   ]
  },
  {
   "cell_type": "markdown",
   "metadata": {},
   "source": [
    "### np.max"
   ]
  },
  {
   "cell_type": "code",
   "execution_count": null,
   "metadata": {},
   "outputs": [],
   "source": [
    "\n",
    "# Máximo\n",
    "\n",
    "fitness = np.array([3.5, 2.7, 4.8, 5.1])\n",
    "\n",
    "\n",
    "maximo = np.max(fitness)\n",
    "print(f\"\\nValor máximo fitness: {maximo}\")\n"
   ]
  },
  {
   "cell_type": "markdown",
   "metadata": {},
   "source": [
    "### np.argmax\n",
    "#### Devuelve los índices de los valores máximos a lo largo de un eje."
   ]
  },
  {
   "cell_type": "code",
   "execution_count": null,
   "metadata": {},
   "outputs": [],
   "source": [
    "fitness = np.array([3.5, 2.7, 4.8, 5.1])\n",
    "# Máximo del arreglo\n",
    "ind  = np.argmax(fitness)\n",
    "print(ind)\n"
   ]
  },
  {
   "cell_type": "code",
   "execution_count": null,
   "metadata": {},
   "outputs": [],
   "source": [
    "\n",
    "fitness2 = np.array([[3.5, 2.7, 4.8, 5.1], \n",
    "                    [1.5, 7.2, 4.1, 6.1]])\n",
    "\n",
    "# Máximo a través de los renglones\n",
    "individuos  = np.argmax(fitness2, axis=0)\n",
    "print(individuos)\n"
   ]
  },
  {
   "cell_type": "code",
   "execution_count": null,
   "metadata": {},
   "outputs": [],
   "source": [
    "\n",
    "fitness2 = np.array([[3.5, 2.7, 4.8, 5.1], \n",
    "                    [1.5, 7.2, 4.1, 6.1]])\n",
    "# Máximo a través de las columnas\n",
    "individuos  = np.argmax(fitness2, axis=1)\n",
    "print(individuos)"
   ]
  },
  {
   "cell_type": "markdown",
   "metadata": {},
   "source": [
    "### np.min"
   ]
  },
  {
   "cell_type": "code",
   "execution_count": null,
   "metadata": {},
   "outputs": [],
   "source": [
    "# Mínimo\n",
    "fitness = np.array([3.5, 2.7, 4.8, 5.1])\n",
    "\n",
    "minimo = np.min(fitness)\n",
    "print(f\"\\nValor máximo fitness: {minimo}\")\n"
   ]
  },
  {
   "cell_type": "markdown",
   "metadata": {},
   "source": [
    "### np.argmin\n",
    "#### Devuelve los índices de los valores mínimos a lo largo de un eje."
   ]
  },
  {
   "cell_type": "code",
   "execution_count": null,
   "metadata": {},
   "outputs": [],
   "source": [
    "fitness = np.array([3.5, 2.7, 4.8, 5.1])\n",
    "# Máximo del arreglo\n",
    "ind  = np.argmin(fitness)\n",
    "print(ind)"
   ]
  },
  {
   "cell_type": "code",
   "execution_count": null,
   "metadata": {},
   "outputs": [],
   "source": [
    "\n",
    "fitness2 = np.array([[3.5, 2.7, 4.8, 5.1], \n",
    "                    [1.5, 7.2, 4.1, 6.1]])\n",
    "\n",
    "# Mínimo a través de los renglones\n",
    "individuos  = np.argmin(fitness2, axis=0)\n",
    "print(individuos)"
   ]
  },
  {
   "cell_type": "code",
   "execution_count": null,
   "metadata": {},
   "outputs": [],
   "source": [
    "\n",
    "fitness2 = np.array([[3.5, 2.7, 4.8, 5.1], \n",
    "                    [1.5, 7.2, 4.1, 6.1]])\n",
    "\n",
    "# Mínimo a través de los renglones\n",
    "individuos  = np.argmin(fitness2, axis=1)\n",
    "print(individuos)"
   ]
  },
  {
   "cell_type": "markdown",
   "metadata": {},
   "source": [
    "### Producto escalar: np.dot"
   ]
  },
  {
   "cell_type": "code",
   "execution_count": null,
   "metadata": {},
   "outputs": [],
   "source": [
    "\n",
    "# Producto escalar\n",
    "weights = np.array([0.2, 0.5, 0.3])\n",
    "individual = np.array([1, 0, 1])\n",
    "fitness = np.dot(weights, individual)\n",
    "print(\"Fitness del individuo:\", fitness)"
   ]
  },
  {
   "cell_type": "markdown",
   "metadata": {},
   "source": [
    "### Producto matricial: np.matmul\n",
    "\n",
    "#### Extiende el producto punto a poblaciones completas."
   ]
  },
  {
   "cell_type": "code",
   "execution_count": null,
   "metadata": {},
   "outputs": [],
   "source": [
    "import numpy as np\n",
    "\n",
    "# Definir dos matrices 2x3 y 3x2\n",
    "A = np.array([[1, 2, 3], [4, 5, 6]])  # Matriz de 2x3\n",
    "B = np.array([[7, 8], [9, 10], [11, 12]])  # Matriz de 3x2\n",
    "\n",
    "# Multiplicar las matrices usando np.matmul\n",
    "C = np.matmul(A, B)\n",
    "\n",
    "print(\"Matriz A:\")\n",
    "print(A)\n",
    "print(\"\\nMatriz B:\")\n",
    "print(B)\n",
    "print(\"\\nResultado de A * B:\")\n",
    "print(C)"
   ]
  },
  {
   "cell_type": "code",
   "execution_count": null,
   "metadata": {},
   "outputs": [],
   "source": [
    "A = np.random.randint(0, 10, size=(5, 3))  \n",
    "print(A)\n",
    "weights = np.array([[0.2, 0.5, 0.3]])\n",
    "B = np.matmul(A, weights.T)  # Equivalente a A @ weights.T\n",
    "print(\"Matriz ponderada:\", B)\n"
   ]
  },
  {
   "cell_type": "code",
   "execution_count": null,
   "metadata": {},
   "outputs": [],
   "source": [
    "v  = np.array([0.63736433, 0.85551919, 0.87917492])\n",
    "v = A[4]\n",
    "print(np.matmul(weights, v))\n",
    "print(np.dot(weights, v))\n",
    "\n",
    "\n"
   ]
  },
  {
   "cell_type": "markdown",
   "metadata": {},
   "source": [
    "### Norma: np.linalg.norm"
   ]
  },
  {
   "cell_type": "code",
   "execution_count": null,
   "metadata": {},
   "outputs": [],
   "source": [
    "individuo = np.array([1, 0, 1, 0, 1, 1, 1])\n",
    "norm = np.linalg.norm(individuo)\n",
    "print(\"Norma del individuo:\", norm)\n"
   ]
  },
  {
   "cell_type": "markdown",
   "metadata": {},
   "source": [
    "## Ejercicios\n",
    "\n",
    "\n",
    "1. **Generación y graficación de datos**:\n",
    "\n",
    "   - Genera un arreglo de 5000 elementos con una distribución normal. Luego, calcular y mostrar la media, la mediana y la desviación estándar del arreglo. \n",
    "   - Graficar el histograma\n",
    "\n",
    "2. **Generación y graficación de datos**:\n",
    "   - Genera un arreglo de 5000 elementos de enteros aleatorios con distribución uniforme . Luego, calcular y mostrar la media, la mediana y la desviación estándar del arreglo.\n",
    "   - Generar el histograma"
   ]
  },
  {
   "cell_type": "code",
   "execution_count": null,
   "metadata": {},
   "outputs": [],
   "source": []
  },
  {
   "cell_type": "code",
   "execution_count": null,
   "metadata": {},
   "outputs": [],
   "source": []
  },
  {
   "cell_type": "code",
   "execution_count": null,
   "metadata": {},
   "outputs": [],
   "source": []
  },
  {
   "cell_type": "markdown",
   "metadata": {},
   "source": [
    "## Ejes de Numpy (AXIS)\n",
    "\n",
    "- Los ejes de NumPy son muy similares a los ejes de un sistema de coordenadas cartesianas.\n",
    "- Axis = 0 indica el primer eje. Suponiendo que estamos hablando de matrices multidimensionales, el eje 0 es el eje que de las filas (se aplica a 2d y arrays multidimensionales).\n",
    "- Axis = 1 indica el segundo eje. Este es el eje horizontal que cruza las columnas\n",
    "- Para entender cómo utilizar el parámetro de eje en las funciones de NumPy, es  importante comprender qué controla realmente el parámetro de eje para cada función.\n",
    "\n",
    "![image](./figs/fig-np-axis0-1.png)"
   ]
  },
  {
   "cell_type": "markdown",
   "metadata": {},
   "source": [
    "## Función $sum$  de NUMPY con AXIS = 0\n",
    "- La función $sum$ suma a través  de las columnas. El resultado es un nuevo array que contiene la suma de cada columna.\n",
    "- En np.sum(), el parámetro de eje (axis) controla qué eje se agregará. Es decir, el parámetro axis controla qué eje se contraerá.\n",
    "\n",
    "- Funciones como sum(), mean(), min(), median() y otras funciones estadísticas agregan sus datos.\n",
    "\n",
    "- Cuando establecemos axis = 0, la función suma las columnas. El resultado es una nueva matriz de NumPy que contiene la suma de cada columna.\n",
    "\n",
    "- En la figura, se colapsan los renglones (axis=0) y calcula la suma de cada columna.\n",
    "\n",
    "\n",
    "![image](./figs/fig-np-axis0.png)"
   ]
  },
  {
   "cell_type": "code",
   "execution_count": null,
   "metadata": {},
   "outputs": [],
   "source": [
    "#A = np.arange(0, 6).reshape([2,3])\n",
    "import numpy as np\n",
    "A = np.array([[0, 1, 2],\n",
    "              [3, 4, 5]\n",
    "              ])\n",
    "\n",
    "print(f\"A={A}\\n\")\n",
    "print(np.sum(A, axis=0))\n",
    "print(np.sum(A, axis=0, keepdims=True))"
   ]
  },
  {
   "cell_type": "markdown",
   "metadata": {},
   "source": [
    "## SUM de NUMPY con AXIS = 1\n",
    "\n",
    "- La función $sum$ suma a través  de los renglones. El resultado es un nuevo array que contiene la suma de cada columna.\n",
    "\n",
    "- Cuando establecemos axis = 1, la función suma los renglones. El resultado es una nueva matriz de NumPy que contiene la suma de cada renglon.\n",
    "\n",
    "- En la figura, se colapsan las columnas  (axis=1) y se calcula la suma de cada renglon.\n",
    "\n",
    "\n",
    "![image](./figs/fig-np-axis1.png)"
   ]
  },
  {
   "cell_type": "code",
   "execution_count": null,
   "metadata": {},
   "outputs": [],
   "source": [
    "# A = np.arange(0, 6).reshape([2,3])\n",
    "\n",
    "A = np.array([[0, 1, 2],\n",
    "              [3, 4, 5]\n",
    "              ])\n",
    "\n",
    "print(f\"A={A}\\n\")\n",
    "print(np.sum(A, axis=1))"
   ]
  },
  {
   "cell_type": "code",
   "execution_count": null,
   "metadata": {},
   "outputs": [],
   "source": [
    "#Ejemplo de población \n",
    "\n",
    "poblacion = np.random.rand(5, 3)  # 5 individuos, 3 genes cada uno\n",
    "print(poblacion)"
   ]
  },
  {
   "cell_type": "code",
   "execution_count": null,
   "metadata": {},
   "outputs": [],
   "source": [
    "\n",
    "mean_per_gene = np.mean(poblacion, axis=0)\n",
    "print(\"Promedio por gen:\", mean_per_gene)"
   ]
  },
  {
   "cell_type": "code",
   "execution_count": null,
   "metadata": {},
   "outputs": [],
   "source": []
  },
  {
   "cell_type": "code",
   "execution_count": null,
   "metadata": {},
   "outputs": [],
   "source": []
  },
  {
   "cell_type": "markdown",
   "metadata": {},
   "source": [
    "## Ejercicios:\n",
    "\n"
   ]
  },
  {
   "cell_type": "markdown",
   "metadata": {},
   "source": [
    "## Ejercicio 1: Análisis de Temperaturas\n",
    "\n",
    "### **Descripción**\n",
    "Una estación meteorológica registra las temperaturas (en grados Celsius) en una ciudad durante una semana a tres diferentes horas del día: **mañana (8 AM), tarde (2 PM) y noche (8 PM)**. Los datos se almacenan en una matriz de NumPy de la siguiente forma:\n",
    "\n",
    "```\n",
    "T =\n",
    "[[15, 22, 18],\n",
    " [14, 24, 17],\n",
    " [16, 23, 19],\n",
    " [15, 25, 20],\n",
    " [17, 26, 21],\n",
    " [18, 27, 22],\n",
    " [19, 28, 23]]\n",
    "```\n",
    "\n",
    "Donde:\n",
    "- **Filas**: representan los días de la semana (de lunes a domingo).\n",
    "- **Columnas**: representan las horas del día (mañana, tarde, noche).\n",
    "\n",
    "### **Instrucciones**\n",
    "1. **Crear la matriz** `T` en NumPy con los datos proporcionados.\n",
    "2. **Obtener la temperatura promedio** de cada día.\n",
    "3. **Obtener la temperatura promedio** de cada horario (mañana, tarde y noche).\n",
    "4. **Determinar el día más frío** (día con menor temperatura promedio).\n",
    "5. **Determinar el día más caluroso** (día con mayor temperatura promedio).\n",
    "6. **Determinar la temperatura máxima y mínima** de toda la semana.\n"
   ]
  },
  {
   "cell_type": "code",
   "execution_count": null,
   "metadata": {},
   "outputs": [],
   "source": []
  },
  {
   "cell_type": "markdown",
   "metadata": {},
   "source": [
    "## Ejercicio 2. Dada la siguiente: matriz score_matrix Realizar las operaciones que se indican\n",
    "\n",
    "```Python\n",
    "import numpy as np\n",
    "\n",
    "# Cada fila representa a un individuo\n",
    "# y cada columna representa los genes \n",
    "scores_matrix = np.array([\n",
    "  [1 0 1 1 0],\n",
    "  [0 1 0 0 1],\n",
    "  [1 1 1 0 0],\n",
    "  [0 0 1 1 1],\n",
    "  [1 0 0 1 1],\n",
    "  [0 1 1 0 1]\n",
    "])\n",
    "```\n"
   ]
  },
  {
   "cell_type": "code",
   "execution_count": 3,
   "metadata": {},
   "outputs": [],
   "source": [
    "# Calcular la aptitud de los individuos sumando los 1\n",
    "\n",
    "# Obtener la desviación estándar\n",
    "\n",
    "# Obtener la media\n",
    "\n",
    "# Obtener la varianza"
   ]
  },
  {
   "cell_type": "code",
   "execution_count": null,
   "metadata": {},
   "outputs": [],
   "source": []
  },
  {
   "cell_type": "code",
   "execution_count": null,
   "metadata": {},
   "outputs": [],
   "source": []
  },
  {
   "cell_type": "markdown",
   "metadata": {},
   "source": [
    "# Concatenación de matrices"
   ]
  },
  {
   "cell_type": "markdown",
   "metadata": {},
   "source": [
    "## Concatenate de NUMPY con AXIS = 0\n",
    "- Cuando usamos el parámetro axis con la función np.concatenate(), el parámetro axis define el eje a lo largo del cual se apilan las matrices.\n",
    "- Cuando establecemos axis = 0, le estamos indicando a la función concatenar que apile las dos matrices a lo largo de las filas. \n",
    "- Estamos especificando que queremos concatenar las matrices a lo largo del eje 0.\n",
    "\n",
    "![image](./figs/fig-np-concatenate-axis0.png)\n"
   ]
  },
  {
   "cell_type": "code",
   "execution_count": null,
   "metadata": {},
   "outputs": [],
   "source": [
    "A= np.array([[1, 1, 1],\n",
    "             [1, 1, 1]])\n",
    "\n",
    "B = np.array([[9, 9, 9],\n",
    "              [9, 9, 9]])\n",
    "\n",
    "np.concatenate([A, B], axis = 0)"
   ]
  },
  {
   "cell_type": "markdown",
   "metadata": {},
   "source": [
    "## Concatenate de NUMPY con AXIS = 1\n",
    "- Cuando usamos el parámetro axis con la función np.concatenate(), el parámetro axis define el eje a lo largo del cual se apilan las matrices.\n",
    "- Cuando establecemos axis = 1, le estamos indicando a la función concatenar que apile las dos matrices de manera horizontal, a lo largo de las columnas. \n",
    "- Estamos especificando que queremos concatenar las matrices a lo largo del eje 1.\n",
    "\n",
    "![image](./figs/fig-np-concatenate-axis1.png)\n"
   ]
  },
  {
   "cell_type": "code",
   "execution_count": null,
   "metadata": {},
   "outputs": [],
   "source": [
    "A= np.array([[1, 1, 1],\n",
    "             [1, 1, 1]])\n",
    "\n",
    "B = np.array([[9, 9, 9],\n",
    "              [9, 9, 9]])\n",
    "\n",
    "np.concatenate((A, B), axis = 1)"
   ]
  },
  {
   "cell_type": "code",
   "execution_count": null,
   "metadata": {},
   "outputs": [],
   "source": [
    "# Contatenación de 2 vectores\n",
    "a = np.array([1,1,1])\n",
    "b = np.array([0,0,1])\n",
    "np.concatenate((a,b))\n"
   ]
  },
  {
   "cell_type": "markdown",
   "metadata": {},
   "source": [
    "## Arrays de 1-DIMENSIONAL\n",
    "\n",
    "- Estos arreglos solo tiene un eje (axis=0)\n",
    ". En este caso, la función funciona correctamente. NumPy concatena estas matrices (1-d) a lo largo del eje 0. El problema es que en las matrices unidimensionales, el eje 0 no apunta \"hacia abajo\" como lo hace en una matriz bidimensional."
   ]
  },
  {
   "cell_type": "code",
   "execution_count": null,
   "metadata": {},
   "outputs": [],
   "source": [
    "a = np.array([1,1,1])\n",
    "b = np.array([9,9,9])\n",
    "\n",
    "np.hstack((a, b))\n",
    "\n"
   ]
  },
  {
   "cell_type": "markdown",
   "metadata": {},
   "source": [
    "### hstack\n",
    "\n",
    "- Apila matrices en secuencia horizontalmente (columna por columna).\n",
    "\n",
    "- Esto es equivalente a la concatenación a lo largo del segundo eje, excepto para matrices 1-D donde se concatena a lo largo del primer eje.\n",
    "-  Reconstruye matrices divididas por hsplit."
   ]
  },
  {
   "cell_type": "code",
   "execution_count": null,
   "metadata": {},
   "outputs": [],
   "source": [
    "import numpy as np\n",
    "\n",
    "a = np.array([[1, 2],\n",
    "              [3, 4]])\n",
    "\n",
    "b = np.array([[5, 6, 7],\n",
    "              [8, 9, 10]])\n",
    "print(f'a={a}')\n",
    "print(f'b={b}')\n",
    "print(\"hstack\\n\", np.hstack((a, b)))\n",
    "\n"
   ]
  },
  {
   "cell_type": "markdown",
   "metadata": {},
   "source": [
    "### vstack\n",
    "\n",
    "- Apila matrices en secuencia verticalmente (fila por fila).\n",
    "\n",
    "- Esto es equivalente a la concatenación a lo largo del primer eje después de que las matrices 1-D de forma (N,) hayan sido reformadas a (1,N). \n",
    "\n",
    "- Reconstruye matrices divididas por vsplit."
   ]
  },
  {
   "cell_type": "code",
   "execution_count": null,
   "metadata": {},
   "outputs": [],
   "source": [
    "\n",
    "a = np.array([[1, 2],\n",
    "              [3, 4]])\n",
    "\n",
    "b = np.array([[5, 6],\n",
    "              [8, 9],\n",
    "              [10, 11]])\n",
    "\n",
    "print(f'a={a}')\n",
    "print(f'b={b}')\n",
    "print(\"vstack\\n\", np.vstack((a, b)))\n",
    "\n"
   ]
  },
  {
   "cell_type": "code",
   "execution_count": null,
   "metadata": {},
   "outputs": [],
   "source": [
    "import numpy as np\n",
    "x = np.arange(24).reshape(6, 4)\n",
    "print(x)\n",
    "np.vsplit(x, 2)"
   ]
  },
  {
   "cell_type": "markdown",
   "metadata": {},
   "source": [
    "## Operaciones con matrices\n",
    " - suma, resta"
   ]
  },
  {
   "cell_type": "code",
   "execution_count": null,
   "metadata": {},
   "outputs": [],
   "source": [
    "# Crear matrices\n",
    "A = np.array([[1, 2], [3, 4]])\n",
    "B = np.array([[5, 6], [7, 8]])\n",
    "\n",
    "print(\"Matriz A:\")\n",
    "print(A)\n",
    "\n",
    "print(\"\\nMatriz B:\")\n",
    "print(B)\n",
    "\n",
    "# Suma y resta de matrices\n",
    "suma = A + B\n",
    "resta = A - B\n",
    "\n",
    "print(\"\\nSuma de matrices:\")\n",
    "print(suma)\n",
    "\n",
    "print(\"\\nResta de matrices:\")\n",
    "print(resta)"
   ]
  },
  {
   "cell_type": "markdown",
   "metadata": {},
   "source": [
    "## Producto Hadamard\n",
    "### El producto Hadamard $ C $ se expresa como:\n",
    "$ C = A \\odot B $  \n",
    "\n",
    "o \n",
    "\n",
    "$ C = A * B $\n",
    "\n",
    "donde cada elemento $ c_{ij} $ de la matriz $ C $ se calcula como:\n",
    "\n",
    "$ c_{ij} = a_{ij} \\odot b_{ij} $\n",
    "\n",
    "donde $ a_{ij} $ y $ b_{ij} $ son los elementos correspondientes de las matrices $ A $ y $ B $, respectivamente."
   ]
  },
  {
   "cell_type": "code",
   "execution_count": null,
   "metadata": {},
   "outputs": [],
   "source": [
    "\n",
    "print(\"Matriz A:\")\n",
    "print(A)\n",
    "\n",
    "print(\"\\nMatriz B:\")\n",
    "print(B)\n",
    "\n",
    "# Multiplicación de matrices (Elemento a elemento )\n",
    "multiplicacion_elemental = A * B  # Multiplicación elemento a elemento\n",
    "\n",
    "print(\"\\nMultiplicación elemento a elemento de matrices:\")\n",
    "print(multiplicacion_elemental)\n",
    "\n",
    "# Multiplicación de matrices (Elemento a elemento )\n",
    "multiplicacion_elemental2 = np.multiply(A, B) # Multiplicación elemento a elemento\n",
    "\n",
    "print(\"\\nMultiplicación elemento a elemento de matrices:\")\n",
    "print(multiplicacion_elemental2)\n",
    "\n"
   ]
  },
  {
   "cell_type": "code",
   "execution_count": null,
   "metadata": {},
   "outputs": [],
   "source": [
    "\n",
    "multiplicacion_matricial = np.dot(A, B)  # Multiplicación matricial 1 (caso especial para 1-D matriz, se realiza el producto escalar)\n",
    "\n",
    "multiplicacion_matricial2 = np.matmul(A, B)  # Multiplicación matricial 2\n",
    "\n",
    "multiplicacion_matricial3 = A @ B  # Multiplicación matricial 3\n",
    "\n",
    "\n",
    "# El resultado es el mismo con 3 formas de realizarlo \n",
    "\n",
    "print(\"\\nMultiplicación matricial:\")\n",
    "print(multiplicacion_matricial)\n",
    "\n",
    "print(\"\\nMultiplicación matricial (matmul):\")\n",
    "print(multiplicacion_matricial2)\n",
    "\n",
    "print(\"\\nMultiplicación matricial (@):\")\n",
    "print(multiplicacion_matricial2)\n"
   ]
  },
  {
   "cell_type": "markdown",
   "metadata": {},
   "source": [
    "### Operaciones sobre matrices\n",
    " - Transpuesta\n",
    " - Inversa: La inversa de A (debe ser cuadrada) se denota $ A^{-1} $  cumple que $A \\cdot A^{-1} = I$ ; el determinante es no nulo\n",
    " - Determinante"
   ]
  },
  {
   "cell_type": "code",
   "execution_count": null,
   "metadata": {},
   "outputs": [],
   "source": [
    "# Transposición\n",
    "transpuesta_A = np.transpose(A)\n",
    "transpuesta_B = np.transpose(B)\n",
    "\n",
    "print(\"A=\", A)\n",
    "print(\"\\nTransposición de la matriz A:\")\n",
    "print(transpuesta_A)\n",
    "\n",
    "print(\"\\nTransposición de la matriz A con operador T:\")\n",
    "print(A.T)\n",
    "\n",
    "print(\"\\nB=\", B)\n",
    "print(\"\\nTransposición de la matriz B:\")\n",
    "print(transpuesta_B)\n",
    "\n",
    "print(\"\\nTransposición de la matriz B con operador T:\")\n",
    "print(B.T)"
   ]
  },
  {
   "cell_type": "code",
   "execution_count": null,
   "metadata": {},
   "outputs": [],
   "source": [
    "# Determinante\n",
    "\n",
    "A = np.array([[1, 2], [3, 4]])\n",
    "B = np.array([[5, 6], [7, 8]])\n",
    "\n",
    "\n",
    "determinante_A = np.linalg.det(A)\n",
    "determinante_B = np.linalg.det(B)\n",
    "\n",
    "print(\"\\nDeterminante de la matriz A:\")\n",
    "print(determinante_A)\n",
    "\n",
    "print(\"\\nDeterminante de la matriz B:\")\n",
    "print(determinante_B)\n",
    "\n",
    "np.linalg.inv(A)"
   ]
  },
  {
   "cell_type": "code",
   "execution_count": null,
   "metadata": {},
   "outputs": [],
   "source": [
    "# Matriz Inversa\n",
    "A = np.array([[0, -1], \n",
    "              [2, 0]])\n",
    "              \n",
    "\n",
    "print(\"Matriz A= \")\n",
    "print(A)              \n",
    "inversa_A = np.linalg.inv(A)\n",
    "\n",
    "inversa_B = np.linalg.inv(B)\n",
    "\n",
    "print(\"\\nInversa de la matriz A:\")\n",
    "print(inversa_A)\n",
    "\n",
    "print(\"\\nMultiplicacion de la matriz A @ A(-1):\")\n",
    "\n",
    "print(inversa_A @ A)\n",
    "\n",
    "print(\"\\nInversa de la matriz B:\")\n",
    "print(inversa_B)\n",
    "\n"
   ]
  },
  {
   "cell_type": "code",
   "execution_count": null,
   "metadata": {},
   "outputs": [],
   "source": [
    "\n",
    "#Matriz no invertible\n",
    "\n",
    "A = np.array([[2, 4],\n",
    "              [1, 2]])\n",
    "print(\"\\nInversa de la matriz A:\")\n",
    "print(A)              \n",
    "\n",
    "try: \n",
    "    print(\"determinante de A = \", np.linalg.det(A))\n",
    "    inversa_A = np.linalg.inv(A)\n",
    "    print(inversa_A)\n",
    "except np.linalg.LinAlgError as err:\n",
    "    print(err)\n",
    "    print(\"la matriz no es invertible\")"
   ]
  },
  {
   "cell_type": "markdown",
   "metadata": {},
   "source": [
    "## Filtrado de datos de un arreglo"
   ]
  },
  {
   "cell_type": "code",
   "execution_count": null,
   "metadata": {},
   "outputs": [],
   "source": [
    "# Generar matriz aleatoria\n",
    "matriz = np.random.randint(1, 10, (4, 4))\n",
    "\n",
    "# Filtrar elementos mayores a 5\n",
    "elementos_filtrados = matriz[matriz > 5] #Filtrado de datos\n",
    "\n",
    "print(\"Matriz original:\")\n",
    "print(matriz)\n",
    "print(\"\\nElementos mayores a 5:\")\n",
    "print(elementos_filtrados)"
   ]
  },
  {
   "cell_type": "code",
   "execution_count": null,
   "metadata": {},
   "outputs": [],
   "source": []
  },
  {
   "cell_type": "code",
   "execution_count": null,
   "metadata": {},
   "outputs": [],
   "source": []
  },
  {
   "cell_type": "code",
   "execution_count": null,
   "metadata": {},
   "outputs": [],
   "source": []
  },
  {
   "cell_type": "markdown",
   "metadata": {},
   "source": [
    "# Broadcasting \n",
    "- El término broadcasting describe cómo NumPy trata las matrices con diferentes formas durante las operaciones aritméticas. \n",
    "- Sujeto a ciertas restricciones, la matriz más pequeña se \"transmite\" a través de la matriz más grande para que tengan formas compatibles.\n",
    "\n",
    "- Las operaciones de NumPy se realizan normalmente en pares de matrices, elemento por elemento. En el caso más simple, las dos matrices deben tener exactamente la misma forma.\n",
    "\n",
    "- Al operar sobre dos matrices, NumPy compara sus formas elemento por elemento. Comienza con la dimensión final (es decir, la más a la derecha) y avanza hacia la izquierda. Dos dimensiones son compatibles cuando: son iguales o una de ellas es 1.\n",
    "\n",
    "- Las matrices de entrada no necesitan tener la misma cantidad de dimensiones. \n",
    "- La matriz resultante tendrá la misma cantidad de dimensiones que la matriz de entrada con la mayor cantidad de dimensiones, donde el tamaño de cada dimensión es el tamaño más grande de la dimensión correspondiente entre las matrices de entrada. \n",
    "- Considere que se supone que las dimensiones faltantes tienen un tamaño de uno.\n",
    "\n",
    "\n",
    "- En numpy, el comando A * B calcula la multiplicación elemento por elemento de las matrices o tensores A y B. Si estas matrices tienen formas diferentes, se convertirán automáticamente para que tengan formas compatibles replicando implícitamente ciertas dimensiones; esto se denomina broadcasting. Las siguientes reglas de conversión se aplican en orden:\n",
    "\n",
    "1. Si las dos matrices difieren en su número de dimensiones, la forma de la que tiene menos dimensiones se rellena con unos en el lado izquierdo. Por ejemplo, un escalar se convertirá en un vector y un vector en una matriz con una fila.\n",
    "2. Si la forma de las dos matrices no coincide en ninguna dimensión, la matriz con forma igual a 1 en esa dimensión se estira para que coincida con la otra forma, replicando el contenido correspondiente.\n",
    "3. Si en alguna dimensión los tamaños no coinciden y ninguno es igual a 1, se genera un error.\n"
   ]
  },
  {
   "cell_type": "markdown",
   "metadata": {},
   "source": [
    "## Ejemplo 1\n",
    "![image](./figs/fig-broadcasting1.png)\n",
    "\n",
    "- Una matriz unidimensional (b) agregada a una matriz bidimensional (a) da como resultado un \"broadcasting\" si el número de elementos de la matriz unidimensional coincide con el número de columnas de la matriz bidimensional."
   ]
  },
  {
   "cell_type": "code",
   "execution_count": null,
   "metadata": {},
   "outputs": [],
   "source": [
    "a = np.array([[ 0.0,  0.0,  0.0],\n",
    "              [10.0, 10.0, 10.0],\n",
    "              [20.0, 20.0, 20.0],\n",
    "              [30.0, 30.0, 30.0]])\n",
    "b = np.array([1.0, 2.0, 3.0])\n",
    "a + b\n"
   ]
  },
  {
   "cell_type": "markdown",
   "metadata": {},
   "source": [
    "## Ejemplo 2\n",
    "![image](./figs/fig-broadcasting2.png)\n"
   ]
  },
  {
   "cell_type": "code",
   "execution_count": null,
   "metadata": {},
   "outputs": [],
   "source": [
    "\n",
    "a = np.array([[ 0.],\n",
    "       [10.],\n",
    "       [20.],\n",
    "       [30.]])\n",
    "b = np.array([1.0, 2.0, 3.0])\n",
    "a + b"
   ]
  },
  {
   "cell_type": "code",
   "execution_count": null,
   "metadata": {},
   "outputs": [],
   "source": [
    "\n",
    "# teniendo \"a\" como vector fila se puede agregar una dimensión adicional con np.newaxis para tener en un formato compatible para el broadasting\n",
    "\n",
    "a = np.array([0.0, 10.0, 20.0, 30.0])\n",
    "b = np.array([1.0, 2.0, 3.0])\n",
    "a = a[:, np.newaxis] #agrega una dimension\n",
    "print(a)\n",
    "a+b"
   ]
  },
  {
   "cell_type": "markdown",
   "metadata": {},
   "source": [
    "## Ejercicios Broadcasting"
   ]
  },
  {
   "cell_type": "markdown",
   "metadata": {},
   "source": [
    "## Ejercicio1. \n",
    "\n",
    "Dada la siguientes definiciones para A y v  explicar ¿Qué pasos sigue NumPy para realizar esta suma y cómo afecta el resultado final?\"\n",
    "\n",
    "```Python\n",
    "import numpy as np\n",
    "\n",
    "A = np.array([[1, 2, 3],\n",
    "              [4, 5, 6],\n",
    "              [7, 8, 9]])\n",
    "\n",
    "v = np.array([1, 0, -1])\n",
    "\n",
    "B = A + v\n",
    "\n",
    "```\n",
    "\n"
   ]
  },
  {
   "cell_type": "markdown",
   "metadata": {},
   "source": [
    "## Ejercicio2. \n",
    "\n",
    "Dada la siguientes definiciones para A y v  explicar ¿Qué pasos sigue NumPy para realizar esta multiplicación y cómo afecta el resultado final?\"\n",
    "\n",
    "```Python\n",
    "import numpy as np\n",
    "\n",
    "# Crear una matriz 3x3\n",
    "A = np.array([[1, 2, 3],\n",
    "              [4, 5, 6],\n",
    "              [7, 8, 9]])\n",
    "\n",
    "\n",
    "v = np.array([[1],\n",
    "              [2],\n",
    "              [3]])\n",
    "\n",
    "\n",
    "B = A * v\n",
    "\n",
    "print(B)\n",
    "\n",
    "```"
   ]
  },
  {
   "cell_type": "markdown",
   "metadata": {},
   "source": [
    "## Ejercicio3. \n",
    "\n",
    "Dada la siguientes definiciones para A y la constante c  explicar ¿Qué pasos sigue NumPy para realizar esta suma y cómo afecta el resultado final?\"\n",
    "\n",
    "```Python\n",
    "import numpy as np\n",
    "\n",
    "# Crear una matriz 3x3\n",
    "A = np.array([[1, 2, 3],\n",
    "              [4, 5, 6],\n",
    "              [7, 8, 9]])\n",
    "\n",
    "# Sumar un escalar a la matriz\n",
    "c = 10\n",
    "B = A + c\n",
    "\n",
    "print(B)\n",
    "\n",
    "```"
   ]
  },
  {
   "cell_type": "markdown",
   "metadata": {},
   "source": [
    "## Ejercicio4. \n",
    "\n",
    "Dada la siguientes definiciones para A y v  explicar ¿Qué pasos sigue NumPy para realizar esta suma y cómo afecta el resultado final?\"\n",
    "\n",
    "```Python\n",
    "import numpy as np\n",
    "\n",
    "# Crear un vector de longitud 3\n",
    "v = np.array([1, 2, 3])\n",
    "\n",
    "# Crear una matriz 2x3\n",
    "A = np.array([[4, 5, 6],\n",
    "              [7, 8, 9]])\n",
    "\n",
    "# Multiplicar el vector por la matriz\n",
    "B = v * A\n",
    "\n",
    "print(B)\n",
    "```"
   ]
  },
  {
   "cell_type": "markdown",
   "metadata": {},
   "source": [
    "## Ejercicio5. \n",
    "\n",
    "Dada la siguientes definiciones explicar la diferencia del uso del parámetro keepdims=True\". Anote sus obsevaciones para axis=0 y axis=1 \n",
    "\n",
    "```Python\n",
    "import numpy as np\n",
    "\n",
    "# Crear una matriz 4x3\n",
    "A = np.array([[1, 2, 3],\n",
    "              [4, 5, 6],\n",
    "              [7, 8, 9],\n",
    "              [10, 11, 12]])\n",
    "\n",
    "\n",
    "mean1 = A.mean(axis=0)\n",
    "print(mean1)\n",
    "\n",
    "mean2 = A.mean(axis=0, keepdims=True)\n",
    "print(mean2)\n",
    "\n",
    "\n",
    "mean3 = A.mean(axis=1)\n",
    "print(mean3)\n",
    "\n",
    "mean4 = A.mean(axis=1, keepdims=True)\n",
    "print(mean4)\n",
    "\n",
    "```"
   ]
  },
  {
   "cell_type": "markdown",
   "metadata": {},
   "source": [
    "## Ejercicio6. \n",
    "\n",
    "En este ejemplo de normalización de filas presentado, explica cómo se realiza el broadcasting para restar la media y dividir por la desviación estándar en cada fila de la matriz. Detalla cómo NumPy ajusta las dimensiones de los arreglos mean y std para permitir estas operaciones. Si es el caso, indicar cómo se expanden las dimensiones y replican los datos.\n",
    "\n",
    "```Python\n",
    "import numpy as np\n",
    "# Crear una matriz 4x3\n",
    "A = np.array([[1, 2, 3],\n",
    "              [4, 5, 6],\n",
    "              [7, 8, 9],\n",
    "              [10, 11, 12]])\n",
    "\n",
    "# Calcular la media \n",
    "mean = A.mean(axis=1, keepdims=True)\n",
    "\n",
    "# Calcular la desviación estándar\n",
    "std = A.std(axis=1, keepdims=True)\n",
    "\n",
    "# Normalizar  (restar la media y dividir por la desviación estándar)\n",
    "B = (A - mean) / std\n",
    "\n",
    "print(B)\n",
    "\n",
    "```"
   ]
  },
  {
   "cell_type": "markdown",
   "metadata": {},
   "source": [
    "## Ejercicio7. \n",
    "\n",
    "La distancia de Hamming mide cuántos genes son diferentes entre dos cromosomas binarios. Se usa en algoritmos genéticos para evaluar la diversidad de una población.\n",
    "\n",
    "La distancia de Hamming entre dos cadenas de longitud $N$:\n",
    "\n",
    "$$ d_H(A,B) = \\sum_{i=1}^{N}|A_i - B_i| $$\n",
    "\n",
    "donde \n",
    "A y B son dos cromosomas representados como secuencias de 0s y 1s.\n",
    "\n",
    "El valor absoluto se puede calcular con la función np.abs()\n",
    "\n",
    "Calcular la distancia de Hamming entre cada individuo de una población y un cromosoma de referencia.\n",
    "\n",
    "cromosoma_referencia  = np.array([1, 1, 0, 0, 1, 0, 1])\n",
    "\n",
    "\n",
    "- Crear una población aleatoria de 50 individuos y 7 genes (matriz binaria 50x7)\n",
    "\n",
    "- Calcula la distancia de hamming haciendo uso del broadcasting\n"
   ]
  }
 ],
 "metadata": {
  "kernelspec": {
   "display_name": "CE",
   "language": "python",
   "name": "python3"
  },
  "language_info": {
   "codemirror_mode": {
    "name": "ipython",
    "version": 3
   },
   "file_extension": ".py",
   "mimetype": "text/x-python",
   "name": "python",
   "nbconvert_exporter": "python",
   "pygments_lexer": "ipython3",
   "version": "3.13.1"
  }
 },
 "nbformat": 4,
 "nbformat_minor": 2
}
